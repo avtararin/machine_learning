{
 "cells": [
  {
   "cell_type": "code",
   "execution_count": 1,
   "id": "6966a599",
   "metadata": {
    "scrolled": true
   },
   "outputs": [],
   "source": [
    "# загрузка пакетов: инструменты -------------------------------------------- # работа с массивами \n",
    "import numpy as np \n",
    "# фреймы данных \n",
    "import pandas as pd \n",
    "# графики \n",
    "import matplotlib as mpl \n",
    "# стили и шаблоны графиков на основе matplotlib \n",
    "import seaborn as sns \n",
    "# перекодировка категориальных переменных \n",
    "from sklearn.preprocessing import LabelEncoder \n",
    "# тест Шапиро-Уилка на нормальность распределения \n",
    "from scipy.stats import shapiro \n",
    "# для таймера \n",
    "import time \n",
    "# загрузка пакетов: модели ------------------------------------------------- # линейные модели \n",
    "import sklearn.linear_model as skl_lm \n",
    "# расчёт MSE \n",
    "from sklearn.metrics import mean_squared_error\n",
    "# кросс-валидация \n",
    "from sklearn.model_selection import train_test_split, LeaveOneOut \n",
    "from sklearn.model_selection import KFold, cross_val_score"
   ]
  },
  {
   "cell_type": "code",
   "execution_count": 2,
   "id": "9dae34d3",
   "metadata": {
    "scrolled": true
   },
   "outputs": [
    {
     "data": {
      "text/plain": [
       "[(0.4, 0.7607843137254902, 0.6470588235294118),\n",
       " (0.9882352941176471, 0.5529411764705883, 0.3843137254901961),\n",
       " (0.5529411764705883, 0.6274509803921569, 0.796078431372549),\n",
       " (0.9058823529411765, 0.5411764705882353, 0.7647058823529411),\n",
       " (0.6509803921568628, 0.8470588235294118, 0.32941176470588235),\n",
       " (1.0, 0.8509803921568627, 0.1843137254901961),\n",
       " (0.8980392156862745, 0.7686274509803922, 0.5803921568627451),\n",
       " (0.7019607843137254, 0.7019607843137254, 0.7019607843137254)]"
      ]
     },
     "execution_count": 2,
     "metadata": {},
     "output_type": "execute_result"
    }
   ],
   "source": [
    "# ядро для генератора случайных чисел \n",
    "my_seed = 18\n",
    "# создаём псевдоним для короткого обращения к графикам \n",
    "plt = mpl.pyplot \n",
    "# настройка стиля и отображения графиков \n",
    "# примеры стилей и шаблонов графиков:  \n",
    "# http://tonysyu.github.io/raw_content/matplotlib-style-gallery/gallery.html mpl.style.use('seaborn-whitegrid') \n",
    "sns.set_palette(\"Set2\") \n",
    "# раскомментируйте следующую строку, чтобы посмотреть палитру \n",
    "sns.color_palette(\"Set2\") "
   ]
  },
  {
   "cell_type": "code",
   "execution_count": 3,
   "id": "eae447b2",
   "metadata": {
    "scrolled": true
   },
   "outputs": [
    {
     "name": "stdout",
     "output_type": "stream",
     "text": [
      "   Grad_Rate  Accept  Top10perc  Top25perc  F_Undergrad  P_Undergrad  PhD  \\\n",
      "0         60    1232         23         52         2885          537   70   \n",
      "1         56    1924         16         29         2683         1227   29   \n",
      "2         54    1097         22         50         1036           99   53   \n",
      "3         59     349         60         89          510           63   92   \n",
      "4         15     146         16         44          249          869   76   \n",
      "\n",
      "   Expend Private  \n",
      "0    7041     Yes  \n",
      "1   10527     Yes  \n",
      "2    8735     Yes  \n",
      "3   19016     Yes  \n",
      "4   10922     Yes  \n"
     ]
    }
   ],
   "source": [
    "fileURL = \"https://raw.githubusercontent.com/ania607/ML/main/data/College_for_lab.csv\"\n",
    "DF = pd.read_csv(fileURL)\n",
    "print(DF.head())"
   ]
  },
  {
   "cell_type": "code",
   "execution_count": 4,
   "id": "3d1c2d07",
   "metadata": {},
   "outputs": [
    {
     "data": {
      "text/html": [
       "<div>\n",
       "<style scoped>\n",
       "    .dataframe tbody tr th:only-of-type {\n",
       "        vertical-align: middle;\n",
       "    }\n",
       "\n",
       "    .dataframe tbody tr th {\n",
       "        vertical-align: top;\n",
       "    }\n",
       "\n",
       "    .dataframe thead th {\n",
       "        text-align: right;\n",
       "    }\n",
       "</style>\n",
       "<table border=\"1\" class=\"dataframe\">\n",
       "  <thead>\n",
       "    <tr style=\"text-align: right;\">\n",
       "      <th></th>\n",
       "      <th>Grad_Rate</th>\n",
       "      <th>Accept</th>\n",
       "      <th>Top10perc</th>\n",
       "      <th>Top25perc</th>\n",
       "      <th>F_Undergrad</th>\n",
       "      <th>P_Undergrad</th>\n",
       "      <th>PhD</th>\n",
       "      <th>Expend</th>\n",
       "      <th>Private</th>\n",
       "    </tr>\n",
       "  </thead>\n",
       "  <tbody>\n",
       "    <tr>\n",
       "      <th>0</th>\n",
       "      <td>60</td>\n",
       "      <td>1232</td>\n",
       "      <td>23</td>\n",
       "      <td>52</td>\n",
       "      <td>2885</td>\n",
       "      <td>537</td>\n",
       "      <td>70</td>\n",
       "      <td>7041</td>\n",
       "      <td>Yes</td>\n",
       "    </tr>\n",
       "    <tr>\n",
       "      <th>1</th>\n",
       "      <td>56</td>\n",
       "      <td>1924</td>\n",
       "      <td>16</td>\n",
       "      <td>29</td>\n",
       "      <td>2683</td>\n",
       "      <td>1227</td>\n",
       "      <td>29</td>\n",
       "      <td>10527</td>\n",
       "      <td>Yes</td>\n",
       "    </tr>\n",
       "    <tr>\n",
       "      <th>2</th>\n",
       "      <td>54</td>\n",
       "      <td>1097</td>\n",
       "      <td>22</td>\n",
       "      <td>50</td>\n",
       "      <td>1036</td>\n",
       "      <td>99</td>\n",
       "      <td>53</td>\n",
       "      <td>8735</td>\n",
       "      <td>Yes</td>\n",
       "    </tr>\n",
       "    <tr>\n",
       "      <th>3</th>\n",
       "      <td>59</td>\n",
       "      <td>349</td>\n",
       "      <td>60</td>\n",
       "      <td>89</td>\n",
       "      <td>510</td>\n",
       "      <td>63</td>\n",
       "      <td>92</td>\n",
       "      <td>19016</td>\n",
       "      <td>Yes</td>\n",
       "    </tr>\n",
       "    <tr>\n",
       "      <th>4</th>\n",
       "      <td>15</td>\n",
       "      <td>146</td>\n",
       "      <td>16</td>\n",
       "      <td>44</td>\n",
       "      <td>249</td>\n",
       "      <td>869</td>\n",
       "      <td>76</td>\n",
       "      <td>10922</td>\n",
       "      <td>Yes</td>\n",
       "    </tr>\n",
       "    <tr>\n",
       "      <th>5</th>\n",
       "      <td>55</td>\n",
       "      <td>479</td>\n",
       "      <td>38</td>\n",
       "      <td>62</td>\n",
       "      <td>678</td>\n",
       "      <td>41</td>\n",
       "      <td>67</td>\n",
       "      <td>9727</td>\n",
       "      <td>Yes</td>\n",
       "    </tr>\n",
       "    <tr>\n",
       "      <th>6</th>\n",
       "      <td>63</td>\n",
       "      <td>340</td>\n",
       "      <td>17</td>\n",
       "      <td>45</td>\n",
       "      <td>416</td>\n",
       "      <td>230</td>\n",
       "      <td>90</td>\n",
       "      <td>8861</td>\n",
       "      <td>Yes</td>\n",
       "    </tr>\n",
       "    <tr>\n",
       "      <th>7</th>\n",
       "      <td>73</td>\n",
       "      <td>1720</td>\n",
       "      <td>37</td>\n",
       "      <td>68</td>\n",
       "      <td>1594</td>\n",
       "      <td>32</td>\n",
       "      <td>89</td>\n",
       "      <td>11487</td>\n",
       "      <td>Yes</td>\n",
       "    </tr>\n",
       "    <tr>\n",
       "      <th>8</th>\n",
       "      <td>80</td>\n",
       "      <td>839</td>\n",
       "      <td>30</td>\n",
       "      <td>63</td>\n",
       "      <td>973</td>\n",
       "      <td>306</td>\n",
       "      <td>79</td>\n",
       "      <td>11644</td>\n",
       "      <td>Yes</td>\n",
       "    </tr>\n",
       "    <tr>\n",
       "      <th>9</th>\n",
       "      <td>52</td>\n",
       "      <td>498</td>\n",
       "      <td>21</td>\n",
       "      <td>44</td>\n",
       "      <td>799</td>\n",
       "      <td>78</td>\n",
       "      <td>40</td>\n",
       "      <td>8991</td>\n",
       "      <td>Yes</td>\n",
       "    </tr>\n",
       "  </tbody>\n",
       "</table>\n",
       "</div>"
      ],
      "text/plain": [
       "   Grad_Rate  Accept  Top10perc  Top25perc  F_Undergrad  P_Undergrad  PhD  \\\n",
       "0         60    1232         23         52         2885          537   70   \n",
       "1         56    1924         16         29         2683         1227   29   \n",
       "2         54    1097         22         50         1036           99   53   \n",
       "3         59     349         60         89          510           63   92   \n",
       "4         15     146         16         44          249          869   76   \n",
       "5         55     479         38         62          678           41   67   \n",
       "6         63     340         17         45          416          230   90   \n",
       "7         73    1720         37         68         1594           32   89   \n",
       "8         80     839         30         63          973          306   79   \n",
       "9         52     498         21         44          799           78   40   \n",
       "\n",
       "   Expend Private  \n",
       "0    7041     Yes  \n",
       "1   10527     Yes  \n",
       "2    8735     Yes  \n",
       "3   19016     Yes  \n",
       "4   10922     Yes  \n",
       "5    9727     Yes  \n",
       "6    8861     Yes  \n",
       "7   11487     Yes  \n",
       "8   11644     Yes  \n",
       "9    8991     Yes  "
      ]
     },
     "execution_count": 4,
     "metadata": {},
     "output_type": "execute_result"
    }
   ],
   "source": [
    "# первые 10 строк фрейма\n",
    "DF.head(10)"
   ]
  },
  {
   "cell_type": "code",
   "execution_count": 5,
   "id": "7ebb4d34",
   "metadata": {},
   "outputs": [
    {
     "data": {
      "text/plain": [
       "Grad_Rate       int64\n",
       "Accept          int64\n",
       "Top10perc       int64\n",
       "Top25perc       int64\n",
       "F_Undergrad     int64\n",
       "P_Undergrad     int64\n",
       "PhD             int64\n",
       "Expend          int64\n",
       "Private        object\n",
       "dtype: object"
      ]
     },
     "execution_count": 5,
     "metadata": {},
     "output_type": "execute_result"
    }
   ],
   "source": [
    "# типы столбцов фрейма\n",
    "DF.dtypes\n"
   ]
  },
  {
   "cell_type": "code",
   "execution_count": 6,
   "id": "8c592fc3",
   "metadata": {},
   "outputs": [
    {
     "data": {
      "text/plain": [
       "Grad_Rate      0\n",
       "Accept         0\n",
       "Top10perc      0\n",
       "Top25perc      0\n",
       "F_Undergrad    0\n",
       "P_Undergrad    0\n",
       "PhD            0\n",
       "Expend         0\n",
       "Private        0\n",
       "dtype: int64"
      ]
     },
     "execution_count": 6,
     "metadata": {},
     "output_type": "execute_result"
    }
   ],
   "source": [
    "DF.isna().sum()"
   ]
  },
  {
   "cell_type": "code",
   "execution_count": 7,
   "id": "ca154d19",
   "metadata": {},
   "outputs": [],
   "source": [
    "# кодируем категориальные переменные\n",
    "private_dict = {'Yes' : 1, 'No' : 0}\n",
    "DF['Private'] = DF.Private.map(private_dict)"
   ]
  },
  {
   "cell_type": "code",
   "execution_count": 8,
   "id": "03f44823",
   "metadata": {},
   "outputs": [
    {
     "data": {
      "text/html": [
       "<div>\n",
       "<style scoped>\n",
       "    .dataframe tbody tr th:only-of-type {\n",
       "        vertical-align: middle;\n",
       "    }\n",
       "\n",
       "    .dataframe tbody tr th {\n",
       "        vertical-align: top;\n",
       "    }\n",
       "\n",
       "    .dataframe thead th {\n",
       "        text-align: right;\n",
       "    }\n",
       "</style>\n",
       "<table border=\"1\" class=\"dataframe\">\n",
       "  <thead>\n",
       "    <tr style=\"text-align: right;\">\n",
       "      <th></th>\n",
       "      <th>Grad_Rate</th>\n",
       "      <th>Accept</th>\n",
       "      <th>Top10perc</th>\n",
       "      <th>Top25perc</th>\n",
       "      <th>F_Undergrad</th>\n",
       "      <th>P_Undergrad</th>\n",
       "      <th>PhD</th>\n",
       "      <th>Expend</th>\n",
       "      <th>Private</th>\n",
       "    </tr>\n",
       "  </thead>\n",
       "  <tbody>\n",
       "    <tr>\n",
       "      <th>0</th>\n",
       "      <td>60</td>\n",
       "      <td>1232</td>\n",
       "      <td>23</td>\n",
       "      <td>52</td>\n",
       "      <td>2885</td>\n",
       "      <td>537</td>\n",
       "      <td>70</td>\n",
       "      <td>7041</td>\n",
       "      <td>1</td>\n",
       "    </tr>\n",
       "    <tr>\n",
       "      <th>1</th>\n",
       "      <td>56</td>\n",
       "      <td>1924</td>\n",
       "      <td>16</td>\n",
       "      <td>29</td>\n",
       "      <td>2683</td>\n",
       "      <td>1227</td>\n",
       "      <td>29</td>\n",
       "      <td>10527</td>\n",
       "      <td>1</td>\n",
       "    </tr>\n",
       "    <tr>\n",
       "      <th>2</th>\n",
       "      <td>54</td>\n",
       "      <td>1097</td>\n",
       "      <td>22</td>\n",
       "      <td>50</td>\n",
       "      <td>1036</td>\n",
       "      <td>99</td>\n",
       "      <td>53</td>\n",
       "      <td>8735</td>\n",
       "      <td>1</td>\n",
       "    </tr>\n",
       "    <tr>\n",
       "      <th>3</th>\n",
       "      <td>59</td>\n",
       "      <td>349</td>\n",
       "      <td>60</td>\n",
       "      <td>89</td>\n",
       "      <td>510</td>\n",
       "      <td>63</td>\n",
       "      <td>92</td>\n",
       "      <td>19016</td>\n",
       "      <td>1</td>\n",
       "    </tr>\n",
       "    <tr>\n",
       "      <th>4</th>\n",
       "      <td>15</td>\n",
       "      <td>146</td>\n",
       "      <td>16</td>\n",
       "      <td>44</td>\n",
       "      <td>249</td>\n",
       "      <td>869</td>\n",
       "      <td>76</td>\n",
       "      <td>10922</td>\n",
       "      <td>1</td>\n",
       "    </tr>\n",
       "    <tr>\n",
       "      <th>5</th>\n",
       "      <td>55</td>\n",
       "      <td>479</td>\n",
       "      <td>38</td>\n",
       "      <td>62</td>\n",
       "      <td>678</td>\n",
       "      <td>41</td>\n",
       "      <td>67</td>\n",
       "      <td>9727</td>\n",
       "      <td>1</td>\n",
       "    </tr>\n",
       "    <tr>\n",
       "      <th>6</th>\n",
       "      <td>63</td>\n",
       "      <td>340</td>\n",
       "      <td>17</td>\n",
       "      <td>45</td>\n",
       "      <td>416</td>\n",
       "      <td>230</td>\n",
       "      <td>90</td>\n",
       "      <td>8861</td>\n",
       "      <td>1</td>\n",
       "    </tr>\n",
       "    <tr>\n",
       "      <th>7</th>\n",
       "      <td>73</td>\n",
       "      <td>1720</td>\n",
       "      <td>37</td>\n",
       "      <td>68</td>\n",
       "      <td>1594</td>\n",
       "      <td>32</td>\n",
       "      <td>89</td>\n",
       "      <td>11487</td>\n",
       "      <td>1</td>\n",
       "    </tr>\n",
       "    <tr>\n",
       "      <th>8</th>\n",
       "      <td>80</td>\n",
       "      <td>839</td>\n",
       "      <td>30</td>\n",
       "      <td>63</td>\n",
       "      <td>973</td>\n",
       "      <td>306</td>\n",
       "      <td>79</td>\n",
       "      <td>11644</td>\n",
       "      <td>1</td>\n",
       "    </tr>\n",
       "    <tr>\n",
       "      <th>9</th>\n",
       "      <td>52</td>\n",
       "      <td>498</td>\n",
       "      <td>21</td>\n",
       "      <td>44</td>\n",
       "      <td>799</td>\n",
       "      <td>78</td>\n",
       "      <td>40</td>\n",
       "      <td>8991</td>\n",
       "      <td>1</td>\n",
       "    </tr>\n",
       "  </tbody>\n",
       "</table>\n",
       "</div>"
      ],
      "text/plain": [
       "   Grad_Rate  Accept  Top10perc  Top25perc  F_Undergrad  P_Undergrad  PhD  \\\n",
       "0         60    1232         23         52         2885          537   70   \n",
       "1         56    1924         16         29         2683         1227   29   \n",
       "2         54    1097         22         50         1036           99   53   \n",
       "3         59     349         60         89          510           63   92   \n",
       "4         15     146         16         44          249          869   76   \n",
       "5         55     479         38         62          678           41   67   \n",
       "6         63     340         17         45          416          230   90   \n",
       "7         73    1720         37         68         1594           32   89   \n",
       "8         80     839         30         63          973          306   79   \n",
       "9         52     498         21         44          799           78   40   \n",
       "\n",
       "   Expend  Private  \n",
       "0    7041        1  \n",
       "1   10527        1  \n",
       "2    8735        1  \n",
       "3   19016        1  \n",
       "4   10922        1  \n",
       "5    9727        1  \n",
       "6    8861        1  \n",
       "7   11487        1  \n",
       "8   11644        1  \n",
       "9    8991        1  "
      ]
     },
     "execution_count": 8,
     "metadata": {},
     "output_type": "execute_result"
    }
   ],
   "source": [
    "DF.head(10)"
   ]
  },
  {
   "cell_type": "code",
   "execution_count": 9,
   "id": "042a0763",
   "metadata": {},
   "outputs": [],
   "source": [
    "# данные для построения моделей\n",
    "DF_model = DF.sample(frac = 0.8, random_state = my_seed)\n",
    "# данные для прогнозов\n",
    "#DF_predict = DF.drop(DF.index)\n",
    "# данные для прогнозов\n",
    "index_predict = DF.index.difference(DF_model.index)\n",
    "DF_predict = DF.loc[index_predict]"
   ]
  },
  {
   "cell_type": "code",
   "execution_count": 10,
   "id": "69a29e65",
   "metadata": {},
   "outputs": [
    {
     "data": {
      "text/html": [
       "<div>\n",
       "<style scoped>\n",
       "    .dataframe tbody tr th:only-of-type {\n",
       "        vertical-align: middle;\n",
       "    }\n",
       "\n",
       "    .dataframe tbody tr th {\n",
       "        vertical-align: top;\n",
       "    }\n",
       "\n",
       "    .dataframe thead th {\n",
       "        text-align: right;\n",
       "    }\n",
       "</style>\n",
       "<table border=\"1\" class=\"dataframe\">\n",
       "  <thead>\n",
       "    <tr style=\"text-align: right;\">\n",
       "      <th></th>\n",
       "      <th>Grad_Rate</th>\n",
       "      <th>Expend</th>\n",
       "      <th>Top25perc</th>\n",
       "      <th>Private</th>\n",
       "    </tr>\n",
       "  </thead>\n",
       "  <tbody>\n",
       "    <tr>\n",
       "      <th>count</th>\n",
       "      <td>622.000000</td>\n",
       "      <td>622.000000</td>\n",
       "      <td>622.000000</td>\n",
       "      <td>622.000000</td>\n",
       "    </tr>\n",
       "    <tr>\n",
       "      <th>mean</th>\n",
       "      <td>65.710611</td>\n",
       "      <td>9709.819936</td>\n",
       "      <td>55.836013</td>\n",
       "      <td>0.741158</td>\n",
       "    </tr>\n",
       "    <tr>\n",
       "      <th>std</th>\n",
       "      <td>16.962681</td>\n",
       "      <td>5202.377351</td>\n",
       "      <td>19.515355</td>\n",
       "      <td>0.438351</td>\n",
       "    </tr>\n",
       "    <tr>\n",
       "      <th>min</th>\n",
       "      <td>15.000000</td>\n",
       "      <td>3186.000000</td>\n",
       "      <td>12.000000</td>\n",
       "      <td>0.000000</td>\n",
       "    </tr>\n",
       "    <tr>\n",
       "      <th>25%</th>\n",
       "      <td>54.000000</td>\n",
       "      <td>6869.500000</td>\n",
       "      <td>41.000000</td>\n",
       "      <td>0.000000</td>\n",
       "    </tr>\n",
       "    <tr>\n",
       "      <th>50%</th>\n",
       "      <td>65.500000</td>\n",
       "      <td>8535.000000</td>\n",
       "      <td>54.000000</td>\n",
       "      <td>1.000000</td>\n",
       "    </tr>\n",
       "    <tr>\n",
       "      <th>75%</th>\n",
       "      <td>78.000000</td>\n",
       "      <td>10884.750000</td>\n",
       "      <td>68.750000</td>\n",
       "      <td>1.000000</td>\n",
       "    </tr>\n",
       "    <tr>\n",
       "      <th>max</th>\n",
       "      <td>118.000000</td>\n",
       "      <td>56233.000000</td>\n",
       "      <td>100.000000</td>\n",
       "      <td>1.000000</td>\n",
       "    </tr>\n",
       "  </tbody>\n",
       "</table>\n",
       "</div>"
      ],
      "text/plain": [
       "        Grad_Rate        Expend   Top25perc     Private\n",
       "count  622.000000    622.000000  622.000000  622.000000\n",
       "mean    65.710611   9709.819936   55.836013    0.741158\n",
       "std     16.962681   5202.377351   19.515355    0.438351\n",
       "min     15.000000   3186.000000   12.000000    0.000000\n",
       "25%     54.000000   6869.500000   41.000000    0.000000\n",
       "50%     65.500000   8535.000000   54.000000    1.000000\n",
       "75%     78.000000  10884.750000   68.750000    1.000000\n",
       "max    118.000000  56233.000000  100.000000    1.000000"
      ]
     },
     "execution_count": 10,
     "metadata": {},
     "output_type": "execute_result"
    }
   ],
   "source": [
    "# описательные статистики для непрерывных переменных\n",
    "DF_model[['Grad_Rate', 'Expend', 'Top25perc', 'Private']].describe()\n"
   ]
  },
  {
   "cell_type": "code",
   "execution_count": 44,
   "id": "4ac1543b",
   "metadata": {},
   "outputs": [
    {
     "data": {
      "image/png": "[encoded data removed]",
      "text/plain": [
       "<Figure size 720x720 with 20 Axes>"
      ]
     },
     "metadata": {
      "needs_background": "light"
     },
     "output_type": "display_data"
    }
   ],
   "source": [
    "# Распределение и зависимость количественных данных\n",
    "sns.pairplot(DF_model[['Grad_Rate', 'Expend', 'Top25perc','Private']])\n",
    "plt.show()\n",
    "     "
   ]
  },
  {
   "cell_type": "code",
   "execution_count": 12,
   "id": "c3ec6128",
   "metadata": {},
   "outputs": [
    {
     "name": "stderr",
     "output_type": "stream",
     "text": [
      "C:\\Anaconda\\envs\\env01\\lib\\site-packages\\scipy\\stats\\stats.py:1713: FutureWarning: Using a non-tuple sequence for multidimensional indexing is deprecated; use `arr[tuple(seq)]` instead of `arr[seq]`. In the future this will be interpreted as an array index, `arr[np.array(seq)]`, which will result either in an error or a different result.\n",
      "  return np.add.reduce(sorted[indexer] * weights, axis=axis) / sumval\n",
      "C:\\Anaconda\\envs\\env01\\lib\\site-packages\\statsmodels\\nonparametric\\kde.py:488: RuntimeWarning: invalid value encountered in true_divide\n",
      "  binned = fast_linbin(X, a, b, gridsize) / (delta * nobs)\n",
      "C:\\Anaconda\\envs\\env01\\lib\\site-packages\\statsmodels\\nonparametric\\kdetools.py:34: RuntimeWarning: invalid value encountered in double_scalars\n",
      "  FAC1 = 2*(np.pi*bw/RANGE)**2\n",
      "C:\\Anaconda\\envs\\env01\\lib\\site-packages\\numpy\\core\\fromnumeric.py:83: RuntimeWarning: invalid value encountered in reduce\n",
      "  return ufunc.reduce(obj, axis, dtype, out, **passkwargs)\n"
     ]
    },
    {
     "data": {
      "image/png": "[encoded data removed]",
      "text/plain": [
       "<Figure size 763x720 with 20 Axes>"
      ]
     },
     "metadata": {
      "needs_background": "light"
     },
     "output_type": "display_data"
    }
   ],
   "source": [
    "# матричный график разброса с цветом по приватности\n",
    "sns.pairplot(DF_model[['Expend', 'Top25perc',\n",
    " 'Grad_Rate','Private']], hue='Private')\n",
    "plt.show()"
   ]
  },
  {
   "cell_type": "code",
   "execution_count": 13,
   "id": "7da4cf64",
   "metadata": {},
   "outputs": [
    {
     "data": {
      "text/plain": [
       "Private  Expend\n",
       "0        6433      2\n",
       "         6971      2\n",
       "         10912     2\n",
       "         3605      1\n",
       "         3752      1\n",
       "         3864      1\n",
       "         3871      1\n",
       "         4010      1\n",
       "         4078      1\n",
       "         4172      1\n",
       "         4222      1\n",
       "         4249      1\n",
       "         4329      1\n",
       "         4362      1\n",
       "         4417      1\n",
       "         4444      1\n",
       "         4469      1\n",
       "         4519      1\n",
       "         4525      1\n",
       "         4546      1\n",
       "         4550      1\n",
       "         4599      1\n",
       "         4602      1\n",
       "         4629      1\n",
       "         4632      1\n",
       "         4639      1\n",
       "         4696      1\n",
       "         4739      1\n",
       "         4776      1\n",
       "         4795      1\n",
       "                  ..\n",
       "1        19635     1\n",
       "         19733     1\n",
       "         20440     1\n",
       "         20447     1\n",
       "         21199     1\n",
       "         21227     1\n",
       "         21409     1\n",
       "         21424     1\n",
       "         21569     1\n",
       "         22014     1\n",
       "         22704     1\n",
       "         22906     1\n",
       "         23850     1\n",
       "         24386     1\n",
       "         25765     1\n",
       "         26037     1\n",
       "         26385     1\n",
       "         27206     1\n",
       "         28320     1\n",
       "         28457     1\n",
       "         29619     1\n",
       "         30639     1\n",
       "         33541     1\n",
       "         36854     1\n",
       "         37219     1\n",
       "         40386     1\n",
       "         41766     1\n",
       "         42926     1\n",
       "         45702     1\n",
       "         56233     1\n",
       "Name: Expend, Length: 759, dtype: int64"
      ]
     },
     "execution_count": 13,
     "metadata": {},
     "output_type": "execute_result"
    }
   ],
   "source": [
    "DF.groupby('Private')['Expend'].value_counts()"
   ]
  },
  {
   "cell_type": "code",
   "execution_count": 14,
   "id": "6089bb8e",
   "metadata": {},
   "outputs": [
    {
     "data": {
      "text/html": [
       "<style  type=\"text/css\" >\n",
       "    #T_c488e9c2_e5d9_11ee_a9f3_106fd9f17e72row0_col0 {\n",
       "            background-color:  #b40426;\n",
       "        }    #T_c488e9c2_e5d9_11ee_a9f3_106fd9f17e72row0_col1 {\n",
       "            background-color:  #3b4cc0;\n",
       "        }    #T_c488e9c2_e5d9_11ee_a9f3_106fd9f17e72row0_col2 {\n",
       "            background-color:  #3b4cc0;\n",
       "        }    #T_c488e9c2_e5d9_11ee_a9f3_106fd9f17e72row1_col0 {\n",
       "            background-color:  #3b4cc0;\n",
       "        }    #T_c488e9c2_e5d9_11ee_a9f3_106fd9f17e72row1_col1 {\n",
       "            background-color:  #b40426;\n",
       "        }    #T_c488e9c2_e5d9_11ee_a9f3_106fd9f17e72row1_col2 {\n",
       "            background-color:  #516ddb;\n",
       "        }    #T_c488e9c2_e5d9_11ee_a9f3_106fd9f17e72row2_col0 {\n",
       "            background-color:  #7093f3;\n",
       "        }    #T_c488e9c2_e5d9_11ee_a9f3_106fd9f17e72row2_col1 {\n",
       "            background-color:  #88abfd;\n",
       "        }    #T_c488e9c2_e5d9_11ee_a9f3_106fd9f17e72row2_col2 {\n",
       "            background-color:  #b40426;\n",
       "        }</style>  \n",
       "<table id=\"T_c488e9c2_e5d9_11ee_a9f3_106fd9f17e72\" > \n",
       "<thead>    <tr> \n",
       "        <th class=\"blank level0\" ></th> \n",
       "        <th class=\"col_heading level0 col0\" >Grad_Rate</th> \n",
       "        <th class=\"col_heading level0 col1\" >Expend</th> \n",
       "        <th class=\"col_heading level0 col2\" >Top25perc</th> \n",
       "    </tr></thead> \n",
       "<tbody>    <tr> \n",
       "        <th id=\"T_c488e9c2_e5d9_11ee_a9f3_106fd9f17e72level0_row0\" class=\"row_heading level0 row0\" >Grad_Rate</th> \n",
       "        <td id=\"T_c488e9c2_e5d9_11ee_a9f3_106fd9f17e72row0_col0\" class=\"data row0 col0\" >1</td> \n",
       "        <td id=\"T_c488e9c2_e5d9_11ee_a9f3_106fd9f17e72row0_col1\" class=\"data row0 col1\" >0.36</td> \n",
       "        <td id=\"T_c488e9c2_e5d9_11ee_a9f3_106fd9f17e72row0_col2\" class=\"data row0 col2\" >0.47</td> \n",
       "    </tr>    <tr> \n",
       "        <th id=\"T_c488e9c2_e5d9_11ee_a9f3_106fd9f17e72level0_row1\" class=\"row_heading level0 row1\" >Expend</th> \n",
       "        <td id=\"T_c488e9c2_e5d9_11ee_a9f3_106fd9f17e72row1_col0\" class=\"data row1 col0\" >0.36</td> \n",
       "        <td id=\"T_c488e9c2_e5d9_11ee_a9f3_106fd9f17e72row1_col1\" class=\"data row1 col1\" >1</td> \n",
       "        <td id=\"T_c488e9c2_e5d9_11ee_a9f3_106fd9f17e72row1_col2\" class=\"data row1 col2\" >0.51</td> \n",
       "    </tr>    <tr> \n",
       "        <th id=\"T_c488e9c2_e5d9_11ee_a9f3_106fd9f17e72level0_row2\" class=\"row_heading level0 row2\" >Top25perc</th> \n",
       "        <td id=\"T_c488e9c2_e5d9_11ee_a9f3_106fd9f17e72row2_col0\" class=\"data row2 col0\" >0.47</td> \n",
       "        <td id=\"T_c488e9c2_e5d9_11ee_a9f3_106fd9f17e72row2_col1\" class=\"data row2 col1\" >0.51</td> \n",
       "        <td id=\"T_c488e9c2_e5d9_11ee_a9f3_106fd9f17e72row2_col2\" class=\"data row2 col2\" >1</td> \n",
       "    </tr></tbody> \n",
       "</table> "
      ],
      "text/plain": [
       "<pandas.io.formats.style.Styler at 0x1765084e550>"
      ]
     },
     "execution_count": 14,
     "metadata": {},
     "output_type": "execute_result"
    }
   ],
   "source": [
    "# Корреляционная матрица количественных данных\n",
    "corr_mat = DF_model[['Grad_Rate','Expend', 'Top25perc']].corr().round(2)\n",
    "corr_mat.style.background_gradient(cmap=\"coolwarm\")"
   ]
  },
  {
   "cell_type": "code",
   "execution_count": 45,
   "id": "2aeffe5a",
   "metadata": {},
   "outputs": [
    {
     "data": {
      "text/html": [
       "<style  type=\"text/css\" >\n",
       "    #T_8cb73f18_e5de_11ee_b1f8_106fd9f17e72row0_col0 {\n",
       "            background-color:  #b40426;\n",
       "        }    #T_8cb73f18_e5de_11ee_b1f8_106fd9f17e72row0_col1 {\n",
       "            background-color:  #3b4cc0;\n",
       "        }    #T_8cb73f18_e5de_11ee_b1f8_106fd9f17e72row0_col2 {\n",
       "            background-color:  #3b4cc0;\n",
       "        }    #T_8cb73f18_e5de_11ee_b1f8_106fd9f17e72row1_col0 {\n",
       "            background-color:  #3b4cc0;\n",
       "        }    #T_8cb73f18_e5de_11ee_b1f8_106fd9f17e72row1_col1 {\n",
       "            background-color:  #b40426;\n",
       "        }    #T_8cb73f18_e5de_11ee_b1f8_106fd9f17e72row1_col2 {\n",
       "            background-color:  #6282ea;\n",
       "        }    #T_8cb73f18_e5de_11ee_b1f8_106fd9f17e72row2_col0 {\n",
       "            background-color:  #80a3fa;\n",
       "        }    #T_8cb73f18_e5de_11ee_b1f8_106fd9f17e72row2_col1 {\n",
       "            background-color:  #a3c2fe;\n",
       "        }    #T_8cb73f18_e5de_11ee_b1f8_106fd9f17e72row2_col2 {\n",
       "            background-color:  #b40426;\n",
       "        }</style>  \n",
       "<table id=\"T_8cb73f18_e5de_11ee_b1f8_106fd9f17e72\" > \n",
       "<thead>    <tr> \n",
       "        <th class=\"blank level0\" ></th> \n",
       "        <th class=\"col_heading level0 col0\" >Grad_Rate</th> \n",
       "        <th class=\"col_heading level0 col1\" >Expend</th> \n",
       "        <th class=\"col_heading level0 col2\" >Top25perc</th> \n",
       "    </tr></thead> \n",
       "<tbody>    <tr> \n",
       "        <th id=\"T_8cb73f18_e5de_11ee_b1f8_106fd9f17e72level0_row0\" class=\"row_heading level0 row0\" >Grad_Rate</th> \n",
       "        <td id=\"T_8cb73f18_e5de_11ee_b1f8_106fd9f17e72row0_col0\" class=\"data row0 col0\" >1</td> \n",
       "        <td id=\"T_8cb73f18_e5de_11ee_b1f8_106fd9f17e72row0_col1\" class=\"data row0 col1\" >0.31</td> \n",
       "        <td id=\"T_8cb73f18_e5de_11ee_b1f8_106fd9f17e72row0_col2\" class=\"data row0 col2\" >0.46</td> \n",
       "    </tr>    <tr> \n",
       "        <th id=\"T_8cb73f18_e5de_11ee_b1f8_106fd9f17e72level0_row1\" class=\"row_heading level0 row1\" >Expend</th> \n",
       "        <td id=\"T_8cb73f18_e5de_11ee_b1f8_106fd9f17e72row1_col0\" class=\"data row1 col0\" >0.31</td> \n",
       "        <td id=\"T_8cb73f18_e5de_11ee_b1f8_106fd9f17e72row1_col1\" class=\"data row1 col1\" >1</td> \n",
       "        <td id=\"T_8cb73f18_e5de_11ee_b1f8_106fd9f17e72row1_col2\" class=\"data row1 col2\" >0.53</td> \n",
       "    </tr>    <tr> \n",
       "        <th id=\"T_8cb73f18_e5de_11ee_b1f8_106fd9f17e72level0_row2\" class=\"row_heading level0 row2\" >Top25perc</th> \n",
       "        <td id=\"T_8cb73f18_e5de_11ee_b1f8_106fd9f17e72row2_col0\" class=\"data row2 col0\" >0.46</td> \n",
       "        <td id=\"T_8cb73f18_e5de_11ee_b1f8_106fd9f17e72row2_col1\" class=\"data row2 col1\" >0.53</td> \n",
       "        <td id=\"T_8cb73f18_e5de_11ee_b1f8_106fd9f17e72row2_col2\" class=\"data row2 col2\" >1</td> \n",
       "    </tr></tbody> \n",
       "</table> "
      ],
      "text/plain": [
       "<pandas.io.formats.style.Styler at 0x17651c45b00>"
      ]
     },
     "execution_count": 45,
     "metadata": {},
     "output_type": "execute_result"
    }
   ],
   "source": [
    "# Корреляционная матрица количественных данных (для качественного стеллажа)\n",
    "corr_mat = DF_model[DF_model[\"Private\"] == 1][['Grad_Rate', 'Expend', 'Top25perc']].corr()\n",
    "corr_mat.style.background_gradient(cmap=\"coolwarm\").set_precision(2)\n"
   ]
  },
  {
   "cell_type": "code",
   "execution_count": 46,
   "id": "0f565a1f",
   "metadata": {},
   "outputs": [
    {
     "data": {
      "text/html": [
       "<style  type=\"text/css\" >\n",
       "    #T_95607008_e5de_11ee_b206_106fd9f17e72row0_col0 {\n",
       "            background-color:  #b40426;\n",
       "        }    #T_95607008_e5de_11ee_b206_106fd9f17e72row0_col1 {\n",
       "            background-color:  #3b4cc0;\n",
       "        }    #T_95607008_e5de_11ee_b206_106fd9f17e72row0_col2 {\n",
       "            background-color:  #4f69d9;\n",
       "        }    #T_95607008_e5de_11ee_b206_106fd9f17e72row1_col0 {\n",
       "            background-color:  #3b4cc0;\n",
       "        }    #T_95607008_e5de_11ee_b206_106fd9f17e72row1_col1 {\n",
       "            background-color:  #b40426;\n",
       "        }    #T_95607008_e5de_11ee_b206_106fd9f17e72row1_col2 {\n",
       "            background-color:  #3b4cc0;\n",
       "        }    #T_95607008_e5de_11ee_b206_106fd9f17e72row2_col0 {\n",
       "            background-color:  #b1cbfc;\n",
       "        }    #T_95607008_e5de_11ee_b206_106fd9f17e72row2_col1 {\n",
       "            background-color:  #a1c0ff;\n",
       "        }    #T_95607008_e5de_11ee_b206_106fd9f17e72row2_col2 {\n",
       "            background-color:  #b40426;\n",
       "        }</style>  \n",
       "<table id=\"T_95607008_e5de_11ee_b206_106fd9f17e72\" > \n",
       "<thead>    <tr> \n",
       "        <th class=\"blank level0\" ></th> \n",
       "        <th class=\"col_heading level0 col0\" >Grad_Rate</th> \n",
       "        <th class=\"col_heading level0 col1\" >Expend</th> \n",
       "        <th class=\"col_heading level0 col2\" >Top25perc</th> \n",
       "    </tr></thead> \n",
       "<tbody>    <tr> \n",
       "        <th id=\"T_95607008_e5de_11ee_b206_106fd9f17e72level0_row0\" class=\"row_heading level0 row0\" >Grad_Rate</th> \n",
       "        <td id=\"T_95607008_e5de_11ee_b206_106fd9f17e72row0_col0\" class=\"data row0 col0\" >1</td> \n",
       "        <td id=\"T_95607008_e5de_11ee_b206_106fd9f17e72row0_col1\" class=\"data row0 col1\" >0.22</td> \n",
       "        <td id=\"T_95607008_e5de_11ee_b206_106fd9f17e72row0_col2\" class=\"data row0 col2\" >0.5</td> \n",
       "    </tr>    <tr> \n",
       "        <th id=\"T_95607008_e5de_11ee_b206_106fd9f17e72level0_row1\" class=\"row_heading level0 row1\" >Expend</th> \n",
       "        <td id=\"T_95607008_e5de_11ee_b206_106fd9f17e72row1_col0\" class=\"data row1 col0\" >0.22</td> \n",
       "        <td id=\"T_95607008_e5de_11ee_b206_106fd9f17e72row1_col1\" class=\"data row1 col1\" >1</td> \n",
       "        <td id=\"T_95607008_e5de_11ee_b206_106fd9f17e72row1_col2\" class=\"data row1 col2\" >0.46</td> \n",
       "    </tr>    <tr> \n",
       "        <th id=\"T_95607008_e5de_11ee_b206_106fd9f17e72level0_row2\" class=\"row_heading level0 row2\" >Top25perc</th> \n",
       "        <td id=\"T_95607008_e5de_11ee_b206_106fd9f17e72row2_col0\" class=\"data row2 col0\" >0.5</td> \n",
       "        <td id=\"T_95607008_e5de_11ee_b206_106fd9f17e72row2_col1\" class=\"data row2 col1\" >0.46</td> \n",
       "        <td id=\"T_95607008_e5de_11ee_b206_106fd9f17e72row2_col2\" class=\"data row2 col2\" >1</td> \n",
       "    </tr></tbody> \n",
       "</table> "
      ],
      "text/plain": [
       "<pandas.io.formats.style.Styler at 0x17651c45c18>"
      ]
     },
     "execution_count": 46,
     "metadata": {},
     "output_type": "execute_result"
    }
   ],
   "source": [
    "# Корреляционная матрица количественных данных (для качественного стеллажа)\n",
    "corr_mat = DF_model[DF_model[\"Private\"] == 0][['Grad_Rate', 'Expend', 'Top25perc']].corr()\n",
    "corr_mat.style.background_gradient(cmap=\"coolwarm\").set_precision(2)\n"
   ]
  },
  {
   "cell_type": "code",
   "execution_count": 47,
   "id": "e86a7aab",
   "metadata": {},
   "outputs": [
    {
     "name": "stdout",
     "output_type": "stream",
     "text": [
      "Grad_Rate Statistics=1.00, p=0.0609\n",
      "Распределение нормально (H0 не отклоняется)\n",
      "\n"
     ]
    }
   ],
   "source": [
    "# тестируем на нормальность\n",
    "for col in ['Grad_Rate']:\n",
    " stat, p = shapiro(DF_model[col])\n",
    " print(col, 'Statistics=%.2f, p=%.4f' % (stat, p))\n",
    " # интерпретация\n",
    " alpha = 0.05\n",
    " if p > alpha:\n",
    "     print('Распределение нормально (H0 не отклоняется)\\n')\n",
    " else:\n",
    "     print('Распределение не нормально (H0 отклоняется)\\n')"
   ]
  },
  {
   "cell_type": "code",
   "execution_count": 19,
   "id": "4421e80f",
   "metadata": {},
   "outputs": [],
   "source": [
    "# Данные для модели 1\n",
    "df1 = DF_model[['Expend', 'Top25perc', 'Grad_Rate', 'Private']].copy()\n",
    "# Данные для модели 2\n",
    "df2 = DF_model[['Expend', 'Top25perc', 'Grad_Rate', 'Private']].copy()\n",
    "df2.loc[:, 'Top25perc_Private'] = df2.loc[:, 'Top25perc'] * df2.loc[:, 'Private']\n",
    "df2 = df2.drop(['Top25perc'], axis=1)\n",
    "# Данные для модели 3\n",
    "df3 = DF_model[['Expend', 'Top25perc', 'Grad_Rate', 'Private']].copy()\n",
    "df3.loc[:, 'Expend_Private'] = df3.loc[:, 'Expend'] * df3.loc[:, 'Private']\n",
    "df3 = df3.drop(['Expend'], axis=1)\n",
    "# Данные для модели 4\n",
    "df4 = DF_model[['Expend', 'Top25perc', 'Grad_Rate', 'Private']].copy()\n",
    "df4.loc[:, 'Exp_Private'] = df4.loc[:, 'Expend'] * df4.loc[:, 'Private']\n",
    "df4.drop(['Expend'], axis=1, inplace=True)\n",
    "df4.loc[:, 'Top25perc_Private'] = df4.loc[:, 'Top25perc'] * df4.loc[:, 'Private']\n",
    "df4.drop(['Top25perc'], axis=1, inplace=True)\n"
   ]
  },
  {
   "cell_type": "code",
   "execution_count": 20,
   "id": "e0a919cd",
   "metadata": {},
   "outputs": [
    {
     "name": "stdout",
     "output_type": "stream",
     "text": [
      "модель fit_lm_0:\n",
      " константа  [35.263] \n",
      " объясняющие  ['Expend', 'Top25perc', 'Private'] \n",
      " коэффициенты  [[ 0.     0.343 11.824]]\n"
     ]
    }
   ],
   "source": [
    "lm = skl_lm.LinearRegression()\n",
    "\n",
    "# модель со всеми объясняющими, y\n",
    "X = df1.drop(['Grad_Rate'], axis=1)\n",
    "y = df1.Grad_Rate.values.reshape(-1, 1)\n",
    "fit_lm_1 = lm.fit(X, y)\n",
    "print('модель fit_lm_0:\\n',\n",
    " 'константа ', np.around(fit_lm_1.intercept_, 3),\n",
    " '\\n объясняющие ', list(X.columns.values),\n",
    " '\\n коэффициенты ', np.around(fit_lm_1.coef_, 3))"
   ]
  },
  {
   "cell_type": "code",
   "execution_count": 21,
   "id": "f630497a",
   "metadata": {},
   "outputs": [
    {
     "name": "stdout",
     "output_type": "stream",
     "text": [
      "модель fit_lm_0:\n",
      " константа  [52.302] \n",
      " объясняющие  ['Expend', 'Private', 'Top25perc_Private'] \n",
      " коэффициенты  [[ 0.    -5.827  0.335]]\n"
     ]
    }
   ],
   "source": [
    "lm = skl_lm.LinearRegression()\n",
    "\n",
    "# модель со всеми объясняющими, y\n",
    "X = df2.drop(['Grad_Rate'], axis=1)\n",
    "y = df2.Grad_Rate.values.reshape(-1, 1)\n",
    "fit_lm_2 = lm.fit(X, y)\n",
    "print('модель fit_lm_0:\\n',\n",
    " 'константа ', np.around(fit_lm_2.intercept_, 3),\n",
    " '\\n объясняющие ', list(X.columns.values),\n",
    " '\\n коэффициенты ', np.around(fit_lm_2.coef_, 3))"
   ]
  },
  {
   "cell_type": "code",
   "execution_count": 22,
   "id": "65cf0bfc",
   "metadata": {},
   "outputs": [
    {
     "name": "stdout",
     "output_type": "stream",
     "text": [
      "модель fit_lm_0:\n",
      " константа  [37.118] \n",
      " объясняющие  ['Top25perc', 'Private', 'Expend_Private'] \n",
      " коэффициенты  [[0.345 9.616 0.   ]]\n"
     ]
    }
   ],
   "source": [
    "lm = skl_lm.LinearRegression()\n",
    "\n",
    "# модель со всеми объясняющими, y\n",
    "X = df3.drop(['Grad_Rate'], axis=1)\n",
    "y = df3.Grad_Rate.values.reshape(-1, 1)\n",
    "fit_lm_3 = lm.fit(X, y)\n",
    "print('модель fit_lm_0:\\n',\n",
    " 'константа ', np.around(fit_lm_3.intercept_, 3),\n",
    " '\\n объясняющие ', list(X.columns.values),\n",
    " '\\n коэффициенты ', np.around(fit_lm_3.coef_, 3))"
   ]
  },
  {
   "cell_type": "code",
   "execution_count": 23,
   "id": "391e60df",
   "metadata": {},
   "outputs": [
    {
     "name": "stdout",
     "output_type": "stream",
     "text": [
      "модель fit_lm_0:\n",
      " константа  [55.025] \n",
      " объясняющие  ['Private', 'Exp_Private', 'Top25perc_Private'] \n",
      " коэффициенты  [[-8.412  0.     0.348]]\n"
     ]
    }
   ],
   "source": [
    "lm = skl_lm.LinearRegression()\n",
    "\n",
    "# модель со всеми объясняющими, y\n",
    "X = df4.drop(['Grad_Rate'], axis=1)\n",
    "y = df4.Grad_Rate.values.reshape(-1, 1)\n",
    "fit_lm_4 = lm.fit(X, y)\n",
    "print('модель fit_lm_0:\\n',\n",
    " 'константа ', np.around(fit_lm_4.intercept_, 3),\n",
    " '\\n объясняющие ', list(X.columns.values),\n",
    " '\\n коэффициенты ', np.around(fit_lm_4.coef_, 3))"
   ]
  },
  {
   "cell_type": "code",
   "execution_count": 24,
   "id": "453165ce",
   "metadata": {},
   "outputs": [
    {
     "data": {
      "text/plain": [
       "array([16412781.07365021])"
      ]
     },
     "execution_count": 24,
     "metadata": {},
     "output_type": "execute_result"
    }
   ],
   "source": [
    "# оценим MSE на обучающей\n",
    "# прогнозы\n",
    "y_pred = fit_lm_1.predict(X)\n",
    "MSE = sum((y - y_pred.reshape(-1, 1))**2) / len(y)\n",
    "MSE\n"
   ]
  },
  {
   "cell_type": "code",
   "execution_count": 25,
   "id": "b91efdfe",
   "metadata": {},
   "outputs": [
    {
     "data": {
      "text/plain": [
       "array([3.55121532e+09])"
      ]
     },
     "execution_count": 25,
     "metadata": {},
     "output_type": "execute_result"
    }
   ],
   "source": [
    "# оценим MSE на обучающей\n",
    "# прогнозы\n",
    "y_pred = fit_lm_2.predict(X)\n",
    "MSE = sum((y - y_pred.reshape(-1, 1))**2) / len(y)\n",
    "MSE\n"
   ]
  },
  {
   "cell_type": "code",
   "execution_count": 26,
   "id": "c76844c1",
   "metadata": {},
   "outputs": [
    {
     "data": {
      "text/plain": [
       "array([9.66652525e+09])"
      ]
     },
     "execution_count": 26,
     "metadata": {},
     "output_type": "execute_result"
    }
   ],
   "source": [
    "# оценим MSE на обучающей\n",
    "# прогнозы\n",
    "y_pred = fit_lm_3.predict(X)\n",
    "MSE = sum((y - y_pred.reshape(-1, 1))**2) / len(y)\n",
    "MSE\n"
   ]
  },
  {
   "cell_type": "code",
   "execution_count": 27,
   "id": "e21fb01a",
   "metadata": {},
   "outputs": [
    {
     "data": {
      "text/plain": [
       "array([204.48538247])"
      ]
     },
     "execution_count": 27,
     "metadata": {},
     "output_type": "execute_result"
    }
   ],
   "source": [
    "# оценим MSE на обучающей\n",
    "# прогнозы\n",
    "y_pred = fit_lm_4.predict(X)\n",
    "MSE = sum((y - y_pred.reshape(-1, 1))**2) / len(y)\n",
    "MSE\n"
   ]
  },
  {
   "cell_type": "code",
   "execution_count": 28,
   "id": "56c954a2",
   "metadata": {},
   "outputs": [
    {
     "name": "stdout",
     "output_type": "stream",
     "text": [
      "Расчёты методом LOOCV заняли 3.28 секунд\n"
     ]
    }
   ],
   "source": [
    "# LeaveOneOut CV\n",
    "loo = LeaveOneOut()\n",
    "# модели для y\n",
    "scores = list()\n",
    "# таймер\n",
    "tic = time.perf_counter()\n",
    "for df in [df1, df2, df3, df4] :\n",
    " loo.get_n_splits(df)\n",
    " X = df.drop(['Grad_Rate'], axis=1)\n",
    " y = df.Grad_Rate\n",
    " score = cross_val_score(lm, X, y, cv=loo, scoring='neg_mean_squared_error').mean()\n",
    " scores.append(score)\n",
    "\n",
    "# таймер\n",
    "toc = time.perf_counter()\n",
    "print(\"Расчёты методом LOOCV заняли {:.2f} секунд\".format(toc - tic))"
   ]
  },
  {
   "cell_type": "code",
   "execution_count": 29,
   "id": "ac665479",
   "metadata": {},
   "outputs": [
    {
     "name": "stdout",
     "output_type": "stream",
     "text": [
      "Расчёты методом LOOCV заняли 3.20 секунд\n"
     ]
    }
   ],
   "source": [
    "# модели для y_log\n",
    "scores_log = list()\n",
    "# таймер\n",
    "tic = time.perf_counter()\n",
    "for df in [df1, df2, df3, df4] :\n",
    " loo.get_n_splits(df)\n",
    " X = df.drop(['Grad_Rate'], axis=1)\n",
    " y = np.log(df.Grad_Rate)\n",
    " score = cross_val_score(lm, X, y, cv=loo, n_jobs=1,\n",
    " scoring='neg_mean_squared_error').mean()\n",
    " scores_log.append(score)\n",
    "# таймер\n",
    "toc = time.perf_counter()\n",
    "print(\"Расчёты методом LOOCV заняли {:.2f} секунд\".format(toc - tic))\n"
   ]
  },
  {
   "cell_type": "code",
   "execution_count": null,
   "id": "5e9d58d8",
   "metadata": {},
   "outputs": [],
   "source": []
  },
  {
   "cell_type": "code",
   "execution_count": 30,
   "id": "db964631",
   "metadata": {},
   "outputs": [
    {
     "data": {
      "text/plain": [
       "[195.24, 206.0, 195.03, 207.09]"
      ]
     },
     "execution_count": 30,
     "metadata": {},
     "output_type": "execute_result"
    }
   ],
   "source": [
    "[np.around(-x, 2) for x in scores]"
   ]
  },
  {
   "cell_type": "code",
   "execution_count": 31,
   "id": "69f0b689",
   "metadata": {},
   "outputs": [
    {
     "name": "stdout",
     "output_type": "stream",
     "text": [
      "Наименьшая ошибка на тестовой с LOOCV у модели fit_lm_3 :\n",
      "MSE_loocv = 195.0\n"
     ]
    }
   ],
   "source": [
    "# самая точная на charges\n",
    "fits = ['fit_lm_1', 'fit_lm_2', 'fit_lm_3', 'fit_lm_4']\n",
    "print('Наименьшая ошибка на тестовой с LOOCV у модели',\n",
    " fits[scores.index(max(scores))],\n",
    " ':\\nMSE_loocv =', np.around(-max(scores), 0))\n"
   ]
  },
  {
   "cell_type": "code",
   "execution_count": 48,
   "id": "b3dccee3",
   "metadata": {},
   "outputs": [
    {
     "name": "stdout",
     "output_type": "stream",
     "text": [
      "Расчёты методом LOOCV заняли 0.03 секунд\n"
     ]
    }
   ],
   "source": [
    "# Перекрёстная проверка по 10 блокам\n",
    "folds = 5\n",
    "# ядра для разбиений перекрёстной проверкой\n",
    "r_state = np.arange(my_seed, my_seed + 9)\n",
    "# модели для y\n",
    "scores = list()\n",
    "# таймер\n",
    "tic = time.perf_counter()\n",
    "i = 0\n",
    "for df in [df1, df2, df3, df4] :\n",
    " X = df.drop(['Grad_Rate'], axis=1)\n",
    " y = df.Grad_Rate\n",
    " kf_10 = KFold(n_splits=folds, random_state=r_state[i],\n",
    " shuffle=True)\n",
    " score = cross_val_score(lm, X, y, cv=kf_10,\n",
    " scoring='neg_mean_squared_error').mean()\n",
    " scores.append(score)\n",
    " i+=1\n",
    "# таймер\n",
    "toc = time.perf_counter()\n",
    "print(\"Расчёты методом LOOCV заняли {:.2f} секунд\".format(toc - tic))\n"
   ]
  },
  {
   "cell_type": "code",
   "execution_count": 33,
   "id": "4175b405",
   "metadata": {},
   "outputs": [
    {
     "name": "stdout",
     "output_type": "stream",
     "text": [
      "Наименьшая ошибка на тестовой с k-fold10 у модели fit_lm_3 :\n",
      "MSE_kf10 = 195.0\n"
     ]
    }
   ],
   "source": [
    "# самая точная на charges\n",
    "fits = [ 'fit_lm_1', 'fit_lm_2', 'fit_lm_3', 'fit_lm_4']\n",
    "print('Наименьшая ошибка на тестовой с k-fold10 у модели',\n",
    " fits[scores.index(max(scores))],\n",
    " ':\\nMSE_kf10 =', np.around(-max(scores), 0))\n"
   ]
  },
  {
   "cell_type": "code",
   "execution_count": 34,
   "id": "5cee981c",
   "metadata": {},
   "outputs": [
    {
     "name": "stdout",
     "output_type": "stream",
     "text": [
      "MSE модели fit_lm_3 на отложенных наблюдениях = 230.38\n"
     ]
    }
   ],
   "source": [
    "# прогноз по fit_lm_3\n",
    "# модель на всех обучающих наблюдениях\n",
    "X = df3.drop(['Grad_Rate'], axis=1)\n",
    "y = df3.Grad_Rate.values.reshape(-1, 1)\n",
    "fit_lm_3 = lm.fit(X, y)\n",
    "# значения y на отложенных наблюдениях\n",
    "y = DF_predict[['Grad_Rate']].values.reshape(-1, 1)\n",
    "# матрица объясняющих на отложенных наблюдениях\n",
    "\n",
    "# Данные для модели 3\n",
    "#df3 = DF_model[['Expend', 'Top25perc', 'Grad_Rate', 'Private']].copy()\n",
    "#df3.loc[:, 'Expend_Private'] = df3.loc[:, 'Expend'] * df3.loc[:, 'Private']\n",
    "#df3 = df3.drop(['Expend'], axis=1)\n",
    "\n",
    "\n",
    "X = DF_predict[['Expend', 'Top25perc', 'Private']].copy()\n",
    "X.loc[:, 'Expend_private'] = X.loc[:, 'Expend'] * X.loc[:, 'Private']\n",
    "X = X.drop(['Expend'], axis=1)\n",
    "# прогнозы\n",
    "y_pred = fit_lm_3.predict(X)\n",
    "# ошибка\n",
    "MSE = sum((y - y_pred.reshape(-1, 1))**2) / len(y)\n",
    "print('MSE модели fit_lm_3 на отложенных наблюдениях = %.2f' % MSE)\n"
   ]
  },
  {
   "cell_type": "code",
   "execution_count": 50,
   "id": "dc0def7d",
   "metadata": {},
   "outputs": [
    {
     "name": "stdout",
     "output_type": "stream",
     "text": [
      "модель fit_lm_3:\n",
      " константа  [42.557] \n",
      " объясняющие  ['Private', 'Top25perc', 'Expend_private'] \n",
      " коэффициенты  [[-2.1272e+00  3.0190e-01  9.0000e-04]]\n"
     ]
    }
   ],
   "source": [
    "# ещё раз строим на обучающей\n",
    "X = df3.drop(['Grad_Rate'], axis = 1)\n",
    "y = df3.Grad_Rate.values.reshape(-1, 1)\n",
    "fit_lm_3 = lm.fit(X, y)\n",
    "print('модель fit_lm_3:\\n',\n",
    " 'константа ', np.around(fit_lm_3.intercept_, 3),\n",
    " '\\n объясняющие ', list(df3.drop(['Grad_Rate'], axis=1).columns.values),\n",
    " '\\n коэффициенты ', np.around(fit_lm_3.coef_, 4))\n"
   ]
  },
  {
   "cell_type": "code",
   "execution_count": 42,
   "id": "fd375f81",
   "metadata": {},
   "outputs": [
    {
     "data": {
      "text/plain": [
       "array([217.5])"
      ]
     },
     "execution_count": 42,
     "metadata": {},
     "output_type": "execute_result"
    }
   ],
   "source": [
    "# ещё раз строим на обучающей\n",
    "X = df3.drop(['Grad_Rate'], axis = 1)\n",
    "y = df3.Grad_Rate.values.reshape(-1, 1)\n",
    "fit_lm_3 = lm.fit(X, y)\n",
    "# делаем данные для модели из отложенных наблюдений\n",
    "df3 = DF_predict[['Grad_Rate', 'Private', 'Top25perc', 'Expend']].copy()\n",
    "df3.loc[:, 'Expend_private'] = df3.loc[:, 'Expend'] * df3.loc[:, 'Private']\n",
    "df3 = df3.drop(['Expend'], axis=1)\n",
    "X = df3.drop(['Grad_Rate'], axis=1)\n",
    "y = df3.Grad_Rate.values.reshape(-1, 1)\n",
    "# прогноз\n",
    "y_pred = fit_lm_3.predict(X)\n",
    "# ошибка\n",
    "MSE = sum((y - y_pred.reshape(-1, 1))**2) / len(y)\n",
    "np.around(MSE, 2)\n"
   ]
  },
  {
   "cell_type": "code",
   "execution_count": 43,
   "id": "c4816c6f",
   "metadata": {},
   "outputs": [
    {
     "name": "stdout",
     "output_type": "stream",
     "text": [
      "Ошибка модели на отложенных наблюдениях составила 22.9% от среднего значения Y\n"
     ]
    }
   ],
   "source": [
    "# сравниваем ошибку со средним значением Y на отложенных\n",
    "print('Ошибка модели на отложенных наблюдениях составила ',\n",
    " np.around(np.sqrt(MSE) / np.mean(y) * 100, 1)[0], '% от среднего значения Y',\n",
    " sep='')"
   ]
  }
 ],
 "metadata": {
  "kernelspec": {
   "display_name": "Python 3",
   "language": "python",
   "name": "python3"
  },
  "language_info": {
   "codemirror_mode": {
    "name": "ipython",
    "version": 3
   },
   "file_extension": ".py",
   "mimetype": "text/x-python",
   "name": "python",
   "nbconvert_exporter": "python",
   "pygments_lexer": "ipython3",
   "version": "3.5.6"
  }
 },
 "nbformat": 4,
 "nbformat_minor": 5
}
