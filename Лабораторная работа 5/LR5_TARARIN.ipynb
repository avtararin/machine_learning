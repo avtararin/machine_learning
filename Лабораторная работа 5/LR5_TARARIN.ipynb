{
 "cells": [
  {
   "cell_type": "markdown",
   "id": "2d4153ec",
   "metadata": {},
   "source": [
    "# Лабораторная работа №5: Методы, основанные на деревьях решений. Регрессионные деревья. Деревья классификации. Случайный лес. Бустинг.\n",
    "В практических примерах ниже показано:\n",
    "+ как делать перекодировку признаков в номинальной и порядковой шкалах\n",
    "+ как вырастить дерево и сделать обрезку его ветвей\n",
    "+ как настроить модель бэггинга\n",
    "+ как вырастить случайный лес\n",
    "+ как настроить модель бустинга на деревьях решений\n",
    "+ как подбирать настроенные параметры моделей методом сеточного поиска\n",
    "Точность всех моделей оценивается методом перекрёстной проверки по 5 блокам."
   ]
  },
  {
   "cell_type": "markdown",
   "id": "16f005e2",
   "metadata": {},
   "source": [
    "# Загружаем пакеты"
   ]
  },
  {
   "cell_type": "code",
   "execution_count": 1,
   "id": "e8afdf25",
   "metadata": {},
   "outputs": [
    {
     "name": "stdout",
     "output_type": "stream",
     "text": [
      "0.22.1\n"
     ]
    }
   ],
   "source": [
    "import sklearn\n",
    "print(sklearn.__version__)"
   ]
  },
  {
   "cell_type": "code",
   "execution_count": 2,
   "id": "8ad781b2",
   "metadata": {
    "scrolled": false
   },
   "outputs": [],
   "source": [
    "# загрузка пакетов: инструменты --------------------------------------------\n",
    "# работа с массивами\n",
    "import numpy as np\n",
    "# фреймы данных\n",
    "import pandas as pd\n",
    "# графики\n",
    "import matplotlib as mpl\n",
    "# стили и шаблоны графиков на основе matplotlib\n",
    "import seaborn as sns\n",
    "# загрузка файлов по URL\n",
    "import urllib\n",
    "# проверка существования файла на диске\n",
    "from pathlib import Path\n",
    "# для форматирования результатов с помощью Markdown\n",
    "from IPython.display import Markdown, display\n",
    "# перекодировка категориальных переменных\n",
    "from sklearn.preprocessing import OrdinalEncoder, OneHotEncoder\n",
    "# хи-квадрат тест на независимость по таблице сопряжённости\n",
    "from scipy.stats import chi2_contingency\n",
    "# для таймера\n",
    "import time\n",
    "# загрузка пакетов: данные -------------------------------------------------\n",
    "from sklearn import datasets\n",
    "# загрузка пакетов: модели -------------------------------------------------\n",
    "# дерево классификации\n",
    "from sklearn.tree import DecisionTreeClassifier, plot_tree, export_text\n",
    "# перекрёстная проверка и метод проверочной выборки\n",
    "from sklearn.model_selection import cross_val_score, train_test_split\n",
    "# для перекрёстной проверки и сеточного поиска\n",
    "from sklearn.model_selection import KFold, GridSearchCV\n",
    "# бэггинг\n",
    "from sklearn.ensemble import BaggingClassifier\n",
    "# случайный лес\n",
    "from sklearn.ensemble import RandomForestClassifier\n",
    "# бустинг\n",
    "from sklearn.ensemble import GradientBoostingClassifier\n",
    "# сводка по точности классификации\n",
    "from sklearn.metrics import classification_report"
   ]
  },
  {
   "cell_type": "code",
   "execution_count": 3,
   "id": "bb31f62c",
   "metadata": {},
   "outputs": [],
   "source": [
    "# константы\n",
    "# ядро для генератора случайных чисел\n",
    "my_seed = 18\n",
    "# создаём псевдоним для короткого обращения к графикам\n",
    "plt = mpl.pyplot\n",
    "# настройка стиля и отображения графиков\n",
    "# примеры стилей и шаблонов графиков:\n",
    "# http://tonysyu.github.io/raw_content/matplotlib-style-gallery/gallery.html\n",
    "mpl.style.use('seaborn-whitegrid')\n",
    "sns.set_palette(\"Set2\")\n",
    "# раскомментируйте следующую строку, чтобы посмотреть палитру"
   ]
  },
  {
   "cell_type": "code",
   "execution_count": 4,
   "id": "f85c3914",
   "metadata": {},
   "outputs": [],
   "source": [
    "# функция форматирования результатов с использованием Markdown\n",
    "def printmd(string):\n",
    " display(Markdown(string))\n",
    "\n",
    "# функции для попарной конкатенации элементов двух списков\n",
    "concat_func_md = lambda x, y: '`' + str(x) + \"`:&ensp;&ensp;&ensp;&ensp;\" + str(y)\n",
    "concat_func = lambda x, y: str(x) + ' ' * 4 + str(y)\n",
    "# функция, которая строит график важности признаков в модели случайного леса\n",
    "# источник: https://www.analyseup.com/learn-python-for-data-science/python-rand\n",
    "def plot_feature_importance(importance, names, model_type):\n",
    " #Create arrays from feature importance and feature names\n",
    " feature_importance = np.array(importance)\n",
    " feature_names = np.array(names)\n",
    " #Create a DataFrame using a Dictionary\n",
    " data={'feature_names':feature_names,'feature_importance':feature_importance}\n",
    " fi_df = pd.DataFrame(data)\n",
    " #Sort the DataFrame in order decreasing feature importance\n",
    " fi_df.sort_values(by=['feature_importance'], ascending=False,\n",
    " inplace=True)\n",
    " #Define size of bar plot\n",
    " plt.figure(figsize=(10,8))\n",
    " #Plot Searborn bar chart\n",
    " sns.barplot(x=fi_df['feature_importance'], y=fi_df['feature_names'])\n",
    " #Add chart labels\n",
    " plt.title('Важность признаков в модели: ' + model_type)\n",
    " plt.xlabel('Важность признака')\n",
    " plt.ylabel('')"
   ]
  },
  {
   "cell_type": "markdown",
   "id": "0395a890",
   "metadata": {},
   "source": [
    "# Загружаем данные:"
   ]
  },
  {
   "cell_type": "code",
   "execution_count": 5,
   "id": "87892665",
   "metadata": {},
   "outputs": [
    {
     "name": "stdout",
     "output_type": "stream",
     "text": [
      "Число строк и столбцов в наборе данных:\n",
      " (30000, 24)\n"
     ]
    }
   ],
   "source": [
    "fileURL = \"https://raw.githubusercontent.com/ania607/ML/main/data/default_of_credit_card_clients.csv\"\n",
    "DF_all = pd.read_csv(fileURL)\n",
    "# загружаем таблицу и превращаем её во фрейм\n",
    "# выясняем размерность фрейма\n",
    "print('Число строк и столбцов в наборе данных:\\n', DF_all.shape)"
   ]
  },
  {
   "cell_type": "markdown",
   "id": "4a7cb24b",
   "metadata": {},
   "source": [
    "### Откладываем 15% наблюдений для прогноза\n",
    "+ оставляем только нужные перменные"
   ]
  },
  {
   "cell_type": "code",
   "execution_count": 6,
   "id": "d446dec8",
   "metadata": {},
   "outputs": [
    {
     "data": {
      "text/html": [
       "<div>\n",
       "<style scoped>\n",
       "    .dataframe tbody tr th:only-of-type {\n",
       "        vertical-align: middle;\n",
       "    }\n",
       "\n",
       "    .dataframe tbody tr th {\n",
       "        vertical-align: top;\n",
       "    }\n",
       "\n",
       "    .dataframe thead th {\n",
       "        text-align: right;\n",
       "    }\n",
       "</style>\n",
       "<table border=\"1\" class=\"dataframe\">\n",
       "  <thead>\n",
       "    <tr style=\"text-align: right;\">\n",
       "      <th></th>\n",
       "      <th>LIMIT_BAL</th>\n",
       "      <th>SEX</th>\n",
       "      <th>EDUCATION</th>\n",
       "      <th>MARRIAGE</th>\n",
       "      <th>AGE</th>\n",
       "      <th>PAY_0</th>\n",
       "      <th>PAY_2</th>\n",
       "    </tr>\n",
       "  </thead>\n",
       "  <tbody>\n",
       "    <tr>\n",
       "      <th>24484</th>\n",
       "      <td>20000</td>\n",
       "      <td>1</td>\n",
       "      <td>3</td>\n",
       "      <td>2</td>\n",
       "      <td>48</td>\n",
       "      <td>-1</td>\n",
       "      <td>-1</td>\n",
       "    </tr>\n",
       "    <tr>\n",
       "      <th>15333</th>\n",
       "      <td>180000</td>\n",
       "      <td>2</td>\n",
       "      <td>2</td>\n",
       "      <td>2</td>\n",
       "      <td>37</td>\n",
       "      <td>-1</td>\n",
       "      <td>-1</td>\n",
       "    </tr>\n",
       "    <tr>\n",
       "      <th>25206</th>\n",
       "      <td>110000</td>\n",
       "      <td>2</td>\n",
       "      <td>2</td>\n",
       "      <td>2</td>\n",
       "      <td>23</td>\n",
       "      <td>-1</td>\n",
       "      <td>-1</td>\n",
       "    </tr>\n",
       "    <tr>\n",
       "      <th>9373</th>\n",
       "      <td>30000</td>\n",
       "      <td>2</td>\n",
       "      <td>3</td>\n",
       "      <td>1</td>\n",
       "      <td>45</td>\n",
       "      <td>1</td>\n",
       "      <td>2</td>\n",
       "    </tr>\n",
       "    <tr>\n",
       "      <th>20646</th>\n",
       "      <td>100000</td>\n",
       "      <td>1</td>\n",
       "      <td>2</td>\n",
       "      <td>2</td>\n",
       "      <td>31</td>\n",
       "      <td>1</td>\n",
       "      <td>2</td>\n",
       "    </tr>\n",
       "  </tbody>\n",
       "</table>\n",
       "</div>"
      ],
      "text/plain": [
       "       LIMIT_BAL  SEX  EDUCATION  MARRIAGE  AGE  PAY_0  PAY_2\n",
       "24484      20000    1          3         2   48     -1     -1\n",
       "15333     180000    2          2         2   37     -1     -1\n",
       "25206     110000    2          2         2   23     -1     -1\n",
       "9373       30000    2          3         1   45      1      2\n",
       "20646     100000    1          2         2   31      1      2"
      ]
     },
     "execution_count": 6,
     "metadata": {},
     "output_type": "execute_result"
    }
   ],
   "source": [
    "DF_all.drop(['PAY_4', 'PAY_5', 'PAY_6', 'BILL_AMT4', 'BILL_AMT5',\n",
    "             'BILL_AMT6', 'PAY_AMT1','PAY_AMT2', 'PAY_AMT3', 'PAY_AMT4','PAY_AMT5',\n",
    "             'PAY_AMT6'], axis=1, inplace=True)\n",
    "# наблюдения для моделирования\n",
    "DF = DF_all.sample(frac = 0.85, random_state = my_seed)\n",
    "# отложенные наблюдения\n",
    "DF_predict = DF_all.drop(DF.index)\n",
    "# первые 5 строк фрейма у первых 7 столбцов\n",
    "DF.iloc[:, :7].head(5)"
   ]
  },
  {
   "cell_type": "code",
   "execution_count": 7,
   "id": "e7906fdf",
   "metadata": {},
   "outputs": [
    {
     "data": {
      "text/html": [
       "<div>\n",
       "<style scoped>\n",
       "    .dataframe tbody tr th:only-of-type {\n",
       "        vertical-align: middle;\n",
       "    }\n",
       "\n",
       "    .dataframe tbody tr th {\n",
       "        vertical-align: top;\n",
       "    }\n",
       "\n",
       "    .dataframe thead th {\n",
       "        text-align: right;\n",
       "    }\n",
       "</style>\n",
       "<table border=\"1\" class=\"dataframe\">\n",
       "  <thead>\n",
       "    <tr style=\"text-align: right;\">\n",
       "      <th></th>\n",
       "      <th>PAY_3</th>\n",
       "      <th>BILL_AMT1</th>\n",
       "      <th>BILL_AMT2</th>\n",
       "      <th>BILL_AMT3</th>\n",
       "    </tr>\n",
       "  </thead>\n",
       "  <tbody>\n",
       "    <tr>\n",
       "      <th>24484</th>\n",
       "      <td>-2</td>\n",
       "      <td>170</td>\n",
       "      <td>-220</td>\n",
       "      <td>-610</td>\n",
       "    </tr>\n",
       "    <tr>\n",
       "      <th>15333</th>\n",
       "      <td>-2</td>\n",
       "      <td>491</td>\n",
       "      <td>0</td>\n",
       "      <td>0</td>\n",
       "    </tr>\n",
       "    <tr>\n",
       "      <th>25206</th>\n",
       "      <td>-1</td>\n",
       "      <td>541</td>\n",
       "      <td>541</td>\n",
       "      <td>541</td>\n",
       "    </tr>\n",
       "    <tr>\n",
       "      <th>9373</th>\n",
       "      <td>2</td>\n",
       "      <td>29334</td>\n",
       "      <td>28198</td>\n",
       "      <td>29497</td>\n",
       "    </tr>\n",
       "    <tr>\n",
       "      <th>20646</th>\n",
       "      <td>2</td>\n",
       "      <td>36204</td>\n",
       "      <td>37412</td>\n",
       "      <td>36537</td>\n",
       "    </tr>\n",
       "  </tbody>\n",
       "</table>\n",
       "</div>"
      ],
      "text/plain": [
       "       PAY_3  BILL_AMT1  BILL_AMT2  BILL_AMT3\n",
       "24484     -2        170       -220       -610\n",
       "15333     -2        491          0          0\n",
       "25206     -1        541        541        541\n",
       "9373       2      29334      28198      29497\n",
       "20646      2      36204      37412      36537"
      ]
     },
     "execution_count": 7,
     "metadata": {},
     "output_type": "execute_result"
    }
   ],
   "source": [
    "# первые 5 строк фрейма у столбцов 8-11\n",
    "DF.iloc[:, 7:11].head(5)"
   ]
  },
  {
   "cell_type": "code",
   "execution_count": 8,
   "id": "9f8664e4",
   "metadata": {},
   "outputs": [
    {
     "data": {
      "text/html": [
       "<div>\n",
       "<style scoped>\n",
       "    .dataframe tbody tr th:only-of-type {\n",
       "        vertical-align: middle;\n",
       "    }\n",
       "\n",
       "    .dataframe tbody tr th {\n",
       "        vertical-align: top;\n",
       "    }\n",
       "\n",
       "    .dataframe thead th {\n",
       "        text-align: right;\n",
       "    }\n",
       "</style>\n",
       "<table border=\"1\" class=\"dataframe\">\n",
       "  <thead>\n",
       "    <tr style=\"text-align: right;\">\n",
       "      <th></th>\n",
       "      <th>Y</th>\n",
       "    </tr>\n",
       "  </thead>\n",
       "  <tbody>\n",
       "    <tr>\n",
       "      <th>24484</th>\n",
       "      <td>0</td>\n",
       "    </tr>\n",
       "    <tr>\n",
       "      <th>15333</th>\n",
       "      <td>0</td>\n",
       "    </tr>\n",
       "    <tr>\n",
       "      <th>25206</th>\n",
       "      <td>0</td>\n",
       "    </tr>\n",
       "    <tr>\n",
       "      <th>9373</th>\n",
       "      <td>0</td>\n",
       "    </tr>\n",
       "    <tr>\n",
       "      <th>20646</th>\n",
       "      <td>0</td>\n",
       "    </tr>\n",
       "  </tbody>\n",
       "</table>\n",
       "</div>"
      ],
      "text/plain": [
       "       Y\n",
       "24484  0\n",
       "15333  0\n",
       "25206  0\n",
       "9373   0\n",
       "20646  0"
      ]
     },
     "execution_count": 8,
     "metadata": {},
     "output_type": "execute_result"
    }
   ],
   "source": [
    "# первые 5 строк фрейма у столбцов 12-14\n",
    "DF.iloc[:, 11:].head(5)"
   ]
  },
  {
   "cell_type": "code",
   "execution_count": 9,
   "id": "71970713",
   "metadata": {},
   "outputs": [
    {
     "data": {
      "text/plain": [
       "LIMIT_BAL    int64\n",
       "SEX          int64\n",
       "EDUCATION    int64\n",
       "MARRIAGE     int64\n",
       "AGE          int64\n",
       "PAY_0        int64\n",
       "PAY_2        int64\n",
       "PAY_3        int64\n",
       "BILL_AMT1    int64\n",
       "BILL_AMT2    int64\n",
       "BILL_AMT3    int64\n",
       "Y            int64\n",
       "dtype: object"
      ]
     },
     "execution_count": 9,
     "metadata": {},
     "output_type": "execute_result"
    }
   ],
   "source": [
    "# типы столбцов фрейма\n",
    "DF.dtypes"
   ]
  },
  {
   "cell_type": "markdown",
   "id": "22e34acf",
   "metadata": {},
   "source": [
    "Проверим, нет ли в таблице пропусков."
   ]
  },
  {
   "cell_type": "code",
   "execution_count": 10,
   "id": "97977fa1",
   "metadata": {},
   "outputs": [
    {
     "data": {
      "text/plain": [
       "LIMIT_BAL    0\n",
       "SEX          0\n",
       "EDUCATION    0\n",
       "MARRIAGE     0\n",
       "AGE          0\n",
       "PAY_0        0\n",
       "PAY_2        0\n",
       "PAY_3        0\n",
       "BILL_AMT1    0\n",
       "BILL_AMT2    0\n",
       "BILL_AMT3    0\n",
       "Y            0\n",
       "dtype: int64"
      ]
     },
     "execution_count": 10,
     "metadata": {},
     "output_type": "execute_result"
    }
   ],
   "source": [
    "# считаем пропуски в каждом столбце\n",
    "DF.isna().sum()"
   ]
  },
  {
   "cell_type": "markdown",
   "id": "15b77c15",
   "metadata": {},
   "source": [
    "Пропусков не обнаружено."
   ]
  },
  {
   "cell_type": "markdown",
   "id": "3dc353fe",
   "metadata": {},
   "source": [
    "## Предварительный анализ данных\n",
    "### Описательные статистики\n",
    "Считаем доли классов целевой переменной ***Y*** ."
   ]
  },
  {
   "cell_type": "code",
   "execution_count": 11,
   "id": "384909c3",
   "metadata": {},
   "outputs": [
    {
     "data": {
      "text/plain": [
       "array([0, 1], dtype=int64)"
      ]
     },
     "execution_count": 11,
     "metadata": {},
     "output_type": "execute_result"
    }
   ],
   "source": [
    "# метки классов\n",
    "DF.Y.unique()"
   ]
  },
  {
   "cell_type": "code",
   "execution_count": 12,
   "id": "bc072357",
   "metadata": {},
   "outputs": [
    {
     "data": {
      "text/plain": [
       "0    0.778\n",
       "1    0.222\n",
       "Name: Y, dtype: float64"
      ]
     },
     "execution_count": 12,
     "metadata": {},
     "output_type": "execute_result"
    }
   ],
   "source": [
    "# доли классов\n",
    "np.around(DF.Y.value_counts() / len(DF.index), 3)"
   ]
  },
  {
   "cell_type": "markdown",
   "id": "515c08b0",
   "metadata": {},
   "source": [
    "Итак, всего целевых классов два, и их доли сильно разняться, с перевесом в пользу класса\n",
    "'0'. Все объясняющие переменные набора данных непрерывные. Рассчитаем для них\n",
    "описательные статистики."
   ]
  },
  {
   "cell_type": "code",
   "execution_count": 13,
   "id": "753787f1",
   "metadata": {},
   "outputs": [
    {
     "data": {
      "text/html": [
       "<div>\n",
       "<style scoped>\n",
       "    .dataframe tbody tr th:only-of-type {\n",
       "        vertical-align: middle;\n",
       "    }\n",
       "\n",
       "    .dataframe tbody tr th {\n",
       "        vertical-align: top;\n",
       "    }\n",
       "\n",
       "    .dataframe thead th {\n",
       "        text-align: right;\n",
       "    }\n",
       "</style>\n",
       "<table border=\"1\" class=\"dataframe\">\n",
       "  <thead>\n",
       "    <tr style=\"text-align: right;\">\n",
       "      <th></th>\n",
       "      <th>LIMIT_BAL</th>\n",
       "      <th>SEX</th>\n",
       "      <th>EDUCATION</th>\n",
       "      <th>MARRIAGE</th>\n",
       "      <th>AGE</th>\n",
       "      <th>PAY_0</th>\n",
       "    </tr>\n",
       "  </thead>\n",
       "  <tbody>\n",
       "    <tr>\n",
       "      <th>count</th>\n",
       "      <td>25500.000000</td>\n",
       "      <td>25500.000000</td>\n",
       "      <td>25500.000000</td>\n",
       "      <td>25500.000000</td>\n",
       "      <td>25500.000000</td>\n",
       "      <td>25500.000000</td>\n",
       "    </tr>\n",
       "    <tr>\n",
       "      <th>mean</th>\n",
       "      <td>167241.556078</td>\n",
       "      <td>1.604784</td>\n",
       "      <td>1.854745</td>\n",
       "      <td>1.552353</td>\n",
       "      <td>35.492824</td>\n",
       "      <td>-0.016353</td>\n",
       "    </tr>\n",
       "    <tr>\n",
       "      <th>std</th>\n",
       "      <td>129380.470154</td>\n",
       "      <td>0.488907</td>\n",
       "      <td>0.793419</td>\n",
       "      <td>0.522415</td>\n",
       "      <td>9.211669</td>\n",
       "      <td>1.123605</td>\n",
       "    </tr>\n",
       "    <tr>\n",
       "      <th>min</th>\n",
       "      <td>10000.000000</td>\n",
       "      <td>1.000000</td>\n",
       "      <td>0.000000</td>\n",
       "      <td>0.000000</td>\n",
       "      <td>21.000000</td>\n",
       "      <td>-2.000000</td>\n",
       "    </tr>\n",
       "    <tr>\n",
       "      <th>25%</th>\n",
       "      <td>50000.000000</td>\n",
       "      <td>1.000000</td>\n",
       "      <td>1.000000</td>\n",
       "      <td>1.000000</td>\n",
       "      <td>28.000000</td>\n",
       "      <td>-1.000000</td>\n",
       "    </tr>\n",
       "    <tr>\n",
       "      <th>50%</th>\n",
       "      <td>140000.000000</td>\n",
       "      <td>2.000000</td>\n",
       "      <td>2.000000</td>\n",
       "      <td>2.000000</td>\n",
       "      <td>34.000000</td>\n",
       "      <td>0.000000</td>\n",
       "    </tr>\n",
       "    <tr>\n",
       "      <th>75%</th>\n",
       "      <td>240000.000000</td>\n",
       "      <td>2.000000</td>\n",
       "      <td>2.000000</td>\n",
       "      <td>2.000000</td>\n",
       "      <td>41.000000</td>\n",
       "      <td>0.000000</td>\n",
       "    </tr>\n",
       "    <tr>\n",
       "      <th>max</th>\n",
       "      <td>800000.000000</td>\n",
       "      <td>2.000000</td>\n",
       "      <td>6.000000</td>\n",
       "      <td>3.000000</td>\n",
       "      <td>79.000000</td>\n",
       "      <td>8.000000</td>\n",
       "    </tr>\n",
       "  </tbody>\n",
       "</table>\n",
       "</div>"
      ],
      "text/plain": [
       "           LIMIT_BAL           SEX     EDUCATION      MARRIAGE           AGE  \\\n",
       "count   25500.000000  25500.000000  25500.000000  25500.000000  25500.000000   \n",
       "mean   167241.556078      1.604784      1.854745      1.552353     35.492824   \n",
       "std    129380.470154      0.488907      0.793419      0.522415      9.211669   \n",
       "min     10000.000000      1.000000      0.000000      0.000000     21.000000   \n",
       "25%     50000.000000      1.000000      1.000000      1.000000     28.000000   \n",
       "50%    140000.000000      2.000000      2.000000      2.000000     34.000000   \n",
       "75%    240000.000000      2.000000      2.000000      2.000000     41.000000   \n",
       "max    800000.000000      2.000000      6.000000      3.000000     79.000000   \n",
       "\n",
       "              PAY_0  \n",
       "count  25500.000000  \n",
       "mean      -0.016353  \n",
       "std        1.123605  \n",
       "min       -2.000000  \n",
       "25%       -1.000000  \n",
       "50%        0.000000  \n",
       "75%        0.000000  \n",
       "max        8.000000  "
      ]
     },
     "execution_count": 13,
     "metadata": {},
     "output_type": "execute_result"
    }
   ],
   "source": [
    "# описательные статистики\n",
    "DF.iloc[:, :6].describe()"
   ]
  },
  {
   "cell_type": "code",
   "execution_count": 14,
   "id": "add5d711",
   "metadata": {},
   "outputs": [
    {
     "data": {
      "text/html": [
       "<div>\n",
       "<style scoped>\n",
       "    .dataframe tbody tr th:only-of-type {\n",
       "        vertical-align: middle;\n",
       "    }\n",
       "\n",
       "    .dataframe tbody tr th {\n",
       "        vertical-align: top;\n",
       "    }\n",
       "\n",
       "    .dataframe thead th {\n",
       "        text-align: right;\n",
       "    }\n",
       "</style>\n",
       "<table border=\"1\" class=\"dataframe\">\n",
       "  <thead>\n",
       "    <tr style=\"text-align: right;\">\n",
       "      <th></th>\n",
       "      <th>PAY_2</th>\n",
       "      <th>PAY_3</th>\n",
       "      <th>BILL_AMT1</th>\n",
       "      <th>BILL_AMT2</th>\n",
       "      <th>BILL_AMT3</th>\n",
       "    </tr>\n",
       "  </thead>\n",
       "  <tbody>\n",
       "    <tr>\n",
       "      <th>count</th>\n",
       "      <td>25500.000000</td>\n",
       "      <td>25500.000000</td>\n",
       "      <td>25500.000000</td>\n",
       "      <td>25500.000000</td>\n",
       "      <td>2.550000e+04</td>\n",
       "    </tr>\n",
       "    <tr>\n",
       "      <th>mean</th>\n",
       "      <td>-0.134039</td>\n",
       "      <td>-0.163294</td>\n",
       "      <td>50859.138510</td>\n",
       "      <td>48834.759882</td>\n",
       "      <td>4.673300e+04</td>\n",
       "    </tr>\n",
       "    <tr>\n",
       "      <th>std</th>\n",
       "      <td>1.196323</td>\n",
       "      <td>1.196063</td>\n",
       "      <td>72865.949211</td>\n",
       "      <td>70425.262890</td>\n",
       "      <td>6.907844e+04</td>\n",
       "    </tr>\n",
       "    <tr>\n",
       "      <th>min</th>\n",
       "      <td>-2.000000</td>\n",
       "      <td>-2.000000</td>\n",
       "      <td>-165580.000000</td>\n",
       "      <td>-69777.000000</td>\n",
       "      <td>-1.572640e+05</td>\n",
       "    </tr>\n",
       "    <tr>\n",
       "      <th>25%</th>\n",
       "      <td>-1.000000</td>\n",
       "      <td>-1.000000</td>\n",
       "      <td>3565.000000</td>\n",
       "      <td>2990.000000</td>\n",
       "      <td>2.635750e+03</td>\n",
       "    </tr>\n",
       "    <tr>\n",
       "      <th>50%</th>\n",
       "      <td>0.000000</td>\n",
       "      <td>0.000000</td>\n",
       "      <td>22330.000000</td>\n",
       "      <td>21084.000000</td>\n",
       "      <td>2.003500e+04</td>\n",
       "    </tr>\n",
       "    <tr>\n",
       "      <th>75%</th>\n",
       "      <td>0.000000</td>\n",
       "      <td>0.000000</td>\n",
       "      <td>66635.500000</td>\n",
       "      <td>63277.250000</td>\n",
       "      <td>5.967425e+04</td>\n",
       "    </tr>\n",
       "    <tr>\n",
       "      <th>max</th>\n",
       "      <td>8.000000</td>\n",
       "      <td>8.000000</td>\n",
       "      <td>653062.000000</td>\n",
       "      <td>743970.000000</td>\n",
       "      <td>1.664089e+06</td>\n",
       "    </tr>\n",
       "  </tbody>\n",
       "</table>\n",
       "</div>"
      ],
      "text/plain": [
       "              PAY_2         PAY_3      BILL_AMT1      BILL_AMT2     BILL_AMT3\n",
       "count  25500.000000  25500.000000   25500.000000   25500.000000  2.550000e+04\n",
       "mean      -0.134039     -0.163294   50859.138510   48834.759882  4.673300e+04\n",
       "std        1.196323      1.196063   72865.949211   70425.262890  6.907844e+04\n",
       "min       -2.000000     -2.000000 -165580.000000  -69777.000000 -1.572640e+05\n",
       "25%       -1.000000     -1.000000    3565.000000    2990.000000  2.635750e+03\n",
       "50%        0.000000      0.000000   22330.000000   21084.000000  2.003500e+04\n",
       "75%        0.000000      0.000000   66635.500000   63277.250000  5.967425e+04\n",
       "max        8.000000      8.000000  653062.000000  743970.000000  1.664089e+06"
      ]
     },
     "execution_count": 14,
     "metadata": {},
     "output_type": "execute_result"
    }
   ],
   "source": [
    "# описательные статистики\n",
    "DF.iloc[:, 6:11].describe()"
   ]
  },
  {
   "cell_type": "markdown",
   "id": "511ccebe",
   "metadata": {},
   "source": [
    "Выводы по описательным статистикам: значения объясняющих переменных положительные кроме 'PAY_2', 'PAY_3'\n",
    "масштабы измерения отличаются. Для работы с методами снижения размерности и\n",
    "регуляризации понадобится стандартизация значений."
   ]
  },
  {
   "cell_type": "markdown",
   "id": "32eb7c9c",
   "metadata": {},
   "source": [
    "## Визуализация разброса переменных внутри классов\n",
    "Поскольку в наборе данных 11 объясняющих переменных, и все они непрерывные (кроме поля 'SEX'), анализ\n",
    "матричного графика разброса будет затруднительным. Построим коробчатые диаграммы для\n",
    "объясняющих переменных, чтобы сравнить средние уровни и разброс по классам."
   ]
  },
  {
   "cell_type": "code",
   "execution_count": 15,
   "id": "0c3836ba",
   "metadata": {},
   "outputs": [
    {
     "data": {
      "image/png": "[encoded data removed]",
      "text/plain": [
       "<Figure size 1200x500 with 5 Axes>"
      ]
     },
     "metadata": {},
     "output_type": "display_data"
    }
   ],
   "source": [
    "# создаём полотно и делим его на четыре части\n",
    "fig = plt.figure(figsize=(12, 5))\n",
    "gs = mpl.gridspec.GridSpec(1, 5)\n",
    "ax1 = plt.subplot(gs[0, 0])\n",
    "ax2 = plt.subplot(gs[0, 1])\n",
    "ax3 = plt.subplot(gs[0, 2])\n",
    "ax4 = plt.subplot(gs[0, 3])\n",
    "ax5 = plt.subplot(gs[0, 4])\n",
    "axs = [ax1, ax2, ax3, ax4, ax5]\n",
    "cols_loop = list(DF.columns[:5].values)\n",
    "for col_name in cols_loop :\n",
    " i = cols_loop.index(col_name)\n",
    " sns.boxplot(x='Y', y=col_name, data=DF, ax=axs[i])\n",
    " axs[i].set_ylabel(col_name)\n",
    " axs[i].set_title(col_name)\n",
    "    \n",
    "# корректируем расположение графиков на полотне\n",
    "gs.tight_layout(plt.gcf())\n",
    "plt.show()"
   ]
  },
  {
   "cell_type": "code",
   "execution_count": 16,
   "id": "da195a7b",
   "metadata": {},
   "outputs": [
    {
     "data": {
      "image/png": "[encoded data removed]",
      "text/plain": [
       "<Figure size 1200x500 with 5 Axes>"
      ]
     },
     "metadata": {},
     "output_type": "display_data"
    }
   ],
   "source": [
    "# создаём полотно и делим его на четыре части\n",
    "fig = plt.figure(figsize=(12, 5))\n",
    "gs = mpl.gridspec.GridSpec(1, 5)\n",
    "ax1 = plt.subplot(gs[0, 0])\n",
    "ax2 = plt.subplot(gs[0, 1])\n",
    "ax3 = plt.subplot(gs[0, 2])\n",
    "ax4 = plt.subplot(gs[0, 3])\n",
    "ax5 = plt.subplot(gs[0, 4])\n",
    "axs = [ax1, ax2, ax3, ax4, ax5]\n",
    "cols_loop = list(DF.columns[5:10].values)\n",
    "for col_name in cols_loop :\n",
    " i = cols_loop.index(col_name)\n",
    " sns.boxplot(x='Y', y=col_name, data=DF, ax=axs[i])\n",
    " axs[i].set_ylabel(col_name)\n",
    " axs[i].set_title(col_name)\n",
    "# корректируем расположение графиков на полотне\n",
    "gs.tight_layout(plt.gcf())\n",
    "plt.show()"
   ]
  },
  {
   "cell_type": "code",
   "execution_count": 17,
   "id": "c1137b4c",
   "metadata": {},
   "outputs": [
    {
     "data": {
      "image/png": "[encoded data removed]",
      "text/plain": [
       "<Figure size 720x500 with 3 Axes>"
      ]
     },
     "metadata": {},
     "output_type": "display_data"
    }
   ],
   "source": [
    "# создаём полотно и делим его на четыре части\n",
    "fig = plt.figure(figsize=(7.2, 5))\n",
    "gs = mpl.gridspec.GridSpec(1, 3)\n",
    "ax1 = plt.subplot(gs[0, 0])\n",
    "ax2 = plt.subplot(gs[0, 1])\n",
    "ax3 = plt.subplot(gs[0, 2])\n",
    "axs = [ax1, ax2, ax3]\n",
    "cols_loop = list(DF.columns[10:11].values)\n",
    "for col_name in cols_loop :\n",
    " i = cols_loop.index(col_name)\n",
    " sns.boxplot(x='Y', y=col_name, data=DF, ax=axs[i])\n",
    " axs[i].set_ylabel(col_name)\n",
    " axs[i].set_title(col_name)\n",
    "# корректируем расположение графиков на полотне\n",
    "gs.tight_layout(plt.gcf())\n",
    "plt.show()\n"
   ]
  },
  {
   "cell_type": "markdown",
   "id": "f716b292",
   "metadata": {},
   "source": [
    "На графиках  сходство в медианах и разбросе между классами прослеживается практически по\n",
    "всем объясняющим переменным кроме `LIMIT_BAL, PAY_0, PAY_2, PAY_3`. Меньше всего различаются коробчатые диаграммы по\n",
    "переменной `EDUCATION, MARRIAGE, AGE, BILL_AMT1, BILL_AMT2, BILL_AMT3` . Это говорит о том, классы по зависимой переменной **Y** неплохо\n",
    "разделяются по всем объясняющим переменным."
   ]
  },
  {
   "cell_type": "markdown",
   "id": "ea18c7c7",
   "metadata": {},
   "source": [
    "## Корреляционный анализ\n",
    "Теперь посмотрим на взаимодействие объясняющих переменных."
   ]
  },
  {
   "cell_type": "code",
   "execution_count": 18,
   "id": "aaedb6e1",
   "metadata": {},
   "outputs": [
    {
     "data": {
      "image/png": "[encoded data removed]",
      "text/plain": [
       "<Figure size 1000x800 with 2 Axes>"
      ]
     },
     "metadata": {},
     "output_type": "display_data"
    }
   ],
   "source": [
    "# рассчитываем корреляционную матрицу\n",
    "corr_mat = DF.drop('Y', axis=1).corr()\n",
    "col_names = DF.drop('Y', axis=1).columns\n",
    "# переключаем стиль оформления, чтобы убрать сетку с тепловой карты\n",
    "mpl.style.use('seaborn-white')\n",
    "# рисуем корреляционную матрицу\n",
    "f = plt.figure(figsize=(10, 8))\n",
    "plt.matshow(corr_mat, fignum=f.number, cmap='PiYG')\n",
    "# координаты для названий строк и столбцов\n",
    "tics_coords = np.arange(0, len(col_names))\n",
    "# рисуем подписи\n",
    "plt.xticks(tics_coords, col_names, fontsize=14, rotation=90)\n",
    "plt.yticks(tics_coords, col_names, fontsize=14)\n",
    "# настраиваем легенду справа от тепловой карты\n",
    "cb = plt.colorbar()\n",
    "cb.ax.tick_params(labelsize=14)\n",
    "cb.ax.tick_params(labelsize=14)\n",
    "plt.show()"
   ]
  },
  {
   "cell_type": "markdown",
   "id": "8456708a",
   "metadata": {},
   "source": [
    "Между объясняющими переменными обнаруживаются как прямые, так и обратные линейные\n",
    "взаимосвязи. Выведем все значимые коэффициенты в одной таблице и определим\n",
    "минимальный / максимальный из них."
   ]
  },
  {
   "cell_type": "markdown",
   "id": "2eade3e4",
   "metadata": {},
   "source": [
    "## Модель дерева\n",
    "В этом разделе построим: \n",
    "+ дерево классификации\n",
    "+ дерево классификации с обрезкой ветвей"
   ]
  },
  {
   "cell_type": "markdown",
   "id": "db749534",
   "metadata": {},
   "source": [
    "## Дерево на всех признаках\n",
    "Построим модель и выведем изображение дерева в виде текста."
   ]
  },
  {
   "cell_type": "code",
   "execution_count": 19,
   "id": "fa0e3c87",
   "metadata": {},
   "outputs": [
    {
     "data": {
      "text/plain": [
       "4688"
      ]
     },
     "execution_count": 19,
     "metadata": {},
     "output_type": "execute_result"
    }
   ],
   "source": [
    "# выращиваем дерево на всех объясняющих\n",
    "X = DF.drop(['Y'], axis=1)\n",
    "y = DF['Y']\n",
    "# классификатор\n",
    "cls_one_tree = DecisionTreeClassifier(criterion='entropy',\n",
    " random_state=my_seed)\n",
    "tree_full = cls_one_tree.fit(X, y)\n",
    "# выводим количество листьев (количество узлов)\n",
    "tree_full.get_n_leaves()"
   ]
  },
  {
   "cell_type": "code",
   "execution_count": 20,
   "id": "ac2c38de",
   "metadata": {},
   "outputs": [
    {
     "data": {
      "text/plain": [
       "55"
      ]
     },
     "execution_count": 20,
     "metadata": {},
     "output_type": "execute_result"
    }
   ],
   "source": [
    "# глубина дерева: количество узлов от корня до листа\n",
    "# в самой длинной ветви\n",
    "tree_full.get_depth()"
   ]
  },
  {
   "cell_type": "markdown",
   "id": "55d6e7c3",
   "metadata": {},
   "source": [
    "Очевидно, дерево получилось слишком большое для отображения в текстовом формате.\n",
    "Графическая визуализация тоже не поможет в данном случае. Посчитаем показатели точности\n",
    "с перекрёстной проверкой."
   ]
  },
  {
   "cell_type": "code",
   "execution_count": 21,
   "id": "6e66bff9",
   "metadata": {},
   "outputs": [
    {
     "name": "stdout",
     "output_type": "stream",
     "text": [
      "Acc с перекрёстной проверкой \n",
      "для модели one_tree : 0.729\n"
     ]
    }
   ],
   "source": [
    "# будем сохранять точность моделей в один массив:\n",
    "score = list()\n",
    "score_models = list()\n",
    "# считаем точность с перекрёстной проверкой, показатель Acc\n",
    "cv = cross_val_score(estimator=cls_one_tree, X=X, y=y, cv=5,\n",
    " scoring='accuracy')\n",
    "# записываем точность\n",
    "score.append(np.around(np.mean(cv), 3))\n",
    "score_models.append('one_tree')\n",
    "print('Acc с перекрёстной проверкой',\n",
    " '\\nдля модели', score_models[0], ':', score[0])\n"
   ]
  },
  {
   "cell_type": "markdown",
   "id": "1b14d985",
   "metadata": {},
   "source": [
    "## Дерево с обрезкой ветвей\n",
    "Подберём оптимальное количество ветвей, которое максимизирует , для экономии\n",
    "времени рассчитанный методом проверочной выборки."
   ]
  },
  {
   "cell_type": "code",
   "execution_count": 22,
   "id": "6078f781",
   "metadata": {},
   "outputs": [
    {
     "name": "stdout",
     "output_type": "stream",
     "text": [
      "Всего значений alpha: 1745\n",
      "Энтропия листьев для первых 5 значений alpha: [0.00226566 0.00226566 0.00228489 0.00230411 0.00233372]\n"
     ]
    }
   ],
   "source": [
    "# рассчитываем параметры alpha для эффективных вариантов обрезки ветвей\n",
    "path = cls_one_tree.cost_complexity_pruning_path(X, y)\n",
    "ccp_alphas, impurities = path.ccp_alphas, path.impurities\n",
    "print('Всего значений alpha:', len(ccp_alphas))\n",
    "print('Энтропия листьев для первых 5 значений alpha:', impurities[:5])"
   ]
  },
  {
   "cell_type": "code",
   "execution_count": 24,
   "id": "8a54c429",
   "metadata": {},
   "outputs": [
    {
     "data": {
      "image/png": "[encoded data removed]",
      "text/plain": [
       "<Figure size 640x480 with 1 Axes>"
      ]
     },
     "metadata": {},
     "output_type": "display_data"
    }
   ],
   "source": [
    "# изображаем на графике\n",
    "plt.plot(ccp_alphas[:-1], impurities[:-1], marker='o', drawstyle=\"steps-post\")\n",
    "plt.xlabel(\"значение гиперпараметра alpha\")\n",
    "plt.ylabel(\"общая энтропия листьев дерева\")\n",
    "plt.title(\"Изменение показателя нечистоты узлов с ростом alpha\")\n",
    "plt.show()\n"
   ]
  },
  {
   "cell_type": "code",
   "execution_count": 25,
   "id": "318e5f88",
   "metadata": {},
   "outputs": [
    {
     "name": "stdout",
     "output_type": "stream",
     "text": [
      "Расчёты по обрезке дерева заняли 214.40 секунд\n"
     ]
    }
   ],
   "source": [
    "# обучающая и тестовая выборки, чтобы сэкономить время\n",
    "X_train, X_test, y_train, y_test = train_test_split(X, y,\n",
    " random_state=my_seed)\n",
    "# модели\n",
    "clfs = list()\n",
    "# таймер\n",
    "tic = time.perf_counter()\n",
    "# цикл по значениям alpha\n",
    "for ccp_alpha in ccp_alphas:\n",
    " clf = DecisionTreeClassifier(random_state=my_seed, ccp_alpha=ccp_alpha)\n",
    " clf.fit(X_train, y_train)\n",
    " clfs.append(clf)\n",
    "# таймер\n",
    "toc = time.perf_counter()\n",
    "print(f\"Расчёты по обрезке дерева заняли {toc - tic:0.2f} секунд\")"
   ]
  },
  {
   "cell_type": "code",
   "execution_count": 26,
   "id": "198d84d1",
   "metadata": {},
   "outputs": [
    {
     "name": "stdout",
     "output_type": "stream",
     "text": [
      "Расчёты показателей точности заняли 6.17 секунд\n"
     ]
    }
   ],
   "source": [
    "# извлекаем характеристики глубины и точности\n",
    "# таймер\n",
    "tic = time.perf_counter()\n",
    "node_counts = [clf.tree_.node_count for clf in clfs]\n",
    "train_scores = [clf.score(X_train, y_train) for clf in clfs]\n",
    "test_scores = [clf.score(X_test, y_test) for clf in clfs]\n",
    "# таймер\n",
    "toc = time.perf_counter()\n",
    "print(f\"Расчёты показателей точности заняли {toc - tic:0.2f} секунд\")"
   ]
  },
  {
   "cell_type": "code",
   "execution_count": 27,
   "id": "6b3afd72",
   "metadata": {},
   "outputs": [
    {
     "data": {
      "image/png": "[encoded data removed]",
      "text/plain": [
       "<Figure size 640x480 with 2 Axes>"
      ]
     },
     "metadata": {},
     "output_type": "display_data"
    }
   ],
   "source": [
    "\n",
    "# изображаем на графике\n",
    "fig, ax = plt.subplots(1, 2)\n",
    "# график глубины дерева\n",
    "ax[0].plot(ccp_alphas, node_counts, marker=',', drawstyle=\"steps-post\")\n",
    "ax[0].set_xlabel(\"значение гиперпараметра alpha\")\n",
    "ax[0].set_ylabel(\"количество узлов\")\n",
    "ax[0].set_title(\"Сложность модели vs alpha\")\n",
    "# график точности\n",
    "ax[1].plot(ccp_alphas, train_scores, marker=',', label='train',\n",
    " drawstyle=\"steps-post\")\n",
    "ax[1].plot(ccp_alphas, test_scores, marker=',', label='test',\n",
    " drawstyle=\"steps-post\")\n",
    "ax[1].set_xlabel(\"значение гиперпараметра alpha\")\n",
    "ax[1].set_ylabel(\"Acc\")\n",
    "ax[1].set_title(\"Точность модели vs alpha\")\n",
    "fig.tight_layout()\n"
   ]
  },
  {
   "cell_type": "markdown",
   "id": "cd0b4fc1",
   "metadata": {},
   "source": [
    "Находим оптимальный размер дерева по максимуму на тестовой выборке."
   ]
  },
  {
   "cell_type": "code",
   "execution_count": 28,
   "id": "f7b22373",
   "metadata": {},
   "outputs": [
    {
     "name": "stdout",
     "output_type": "stream",
     "text": [
      "Оптимальное количество узлов: 141 \n",
      "соответствующая Acc на тестовой: 0.82 \n",
      "\n",
      "Acc с перекрёстной проверкой \n",
      "для модели pruned_tree : 0.761\n"
     ]
    }
   ],
   "source": [
    "# оптимальное количество узлов\n",
    "opt_nodes_num = node_counts[test_scores.index(max(test_scores))]\n",
    "# считаем точность с перекрёстной проверкой, показатель Acc\n",
    "cv = cross_val_score(estimator=clfs[opt_nodes_num], X=X, y=y, cv=5,\n",
    " scoring='accuracy')\n",
    "# записываем точность\n",
    "score.append(np.around(np.mean(cv), 3))\n",
    "score_models.append('pruned_tree')\n",
    "print('Оптимальное количество узлов:', opt_nodes_num,\n",
    " '\\nсоответствующая Acc на тестовой:', np.around(max(test_scores), 3),\n",
    " '\\n\\nAcc с перекрёстной проверкой',\n",
    " '\\nдля модели', score_models[1], ':', score[1])"
   ]
  },
  {
   "cell_type": "markdown",
   "id": "c073c7b3",
   "metadata": {},
   "source": [
    "Посмотрим на характеристики глубины и сложности построенного дерева с обрезкой ветвей."
   ]
  },
  {
   "cell_type": "code",
   "execution_count": 29,
   "id": "1257e15c",
   "metadata": {},
   "outputs": [
    {
     "data": {
      "text/plain": [
       "1655"
      ]
     },
     "execution_count": 29,
     "metadata": {},
     "output_type": "execute_result"
    }
   ],
   "source": [
    "# выводим количество листьев (количество узлов)\n",
    "clfs[opt_nodes_num].get_n_leaves()"
   ]
  },
  {
   "cell_type": "code",
   "execution_count": 30,
   "id": "10bb0e34",
   "metadata": {},
   "outputs": [
    {
     "data": {
      "text/plain": [
       "38"
      ]
     },
     "execution_count": 30,
     "metadata": {},
     "output_type": "execute_result"
    }
   ],
   "source": [
    "# глубина дерева: количество узлов от корня до листа\n",
    "# в самой длинной ветви\n",
    "clfs[opt_nodes_num].get_depth()\n"
   ]
  },
  {
   "cell_type": "markdown",
   "id": "0ee3eaad",
   "metadata": {},
   "source": [
    "## Бустинг\n",
    "Подберём сеточным поиском настроечные параметры модели:\n",
    "+ B число деревьев\n",
    "+ λ – скорость обучения\n",
    "+ d – глубина взаимодействия предикторов"
   ]
  },
  {
   "cell_type": "code",
   "execution_count": 32,
   "id": "04b38555",
   "metadata": {},
   "outputs": [
    {
     "data": {
      "text/plain": [
       "0.819"
      ]
     },
     "execution_count": 32,
     "metadata": {},
     "output_type": "execute_result"
    }
   ],
   "source": [
    "# разбиения для перекрёстной проверки\n",
    "kfold = KFold(n_splits=5, random_state=my_seed, shuffle=True)\n",
    "# обучаем модель с параметрами по умолчанию\n",
    "clf_tst = GradientBoostingClassifier(n_estimators=100, learning_rate=1.0,\n",
    " max_depth=1, random_state=my_seed)\n",
    "cv = cross_val_score(clf_tst, X, y, cv=kfold, scoring='accuracy')\n",
    "np.around(np.mean(cv), 3)"
   ]
  },
  {
   "cell_type": "code",
   "execution_count": 33,
   "id": "1458c143",
   "metadata": {},
   "outputs": [
    {
     "name": "stdout",
     "output_type": "stream",
     "text": [
      "Сеточный поиск занял 275.14 секунд\n"
     ]
    }
   ],
   "source": [
    "# настроим параметры бустинга с помощью сеточного поиска\n",
    "param_grid = {'n_estimators' : [10, 20, 30, 40, 50],\n",
    " 'learning_rate' : np.linspace(start=0.01, stop=0.25, num=15),\n",
    " 'max_depth' : [1, 2]}\n",
    "# таймер\n",
    "tic = time.perf_counter()\n",
    "clf = GridSearchCV(GradientBoostingClassifier(),\n",
    " param_grid, scoring='accuracy', cv=kfold)\n",
    "boost_tree = clf.fit(X, y)\n",
    "# таймер\n",
    "toc = time.perf_counter()\n",
    "print(f\"Сеточный поиск занял {toc - tic:0.2f} секунд\", sep='')"
   ]
  },
  {
   "cell_type": "code",
   "execution_count": 34,
   "id": "ef0eecd9",
   "metadata": {},
   "outputs": [
    {
     "data": {
      "text/plain": [
       "0.821"
      ]
     },
     "execution_count": 34,
     "metadata": {},
     "output_type": "execute_result"
    }
   ],
   "source": [
    "# точность лучшей модели\n",
    "np.around(boost_tree.best_score_, 3)\n"
   ]
  },
  {
   "cell_type": "code",
   "execution_count": 35,
   "id": "03e70927",
   "metadata": {},
   "outputs": [
    {
     "name": "stdout",
     "output_type": "stream",
     "text": [
      "n_estimators: 30 \n",
      "learning_rate: 0.23285714285714287 \n",
      "max_depth: 2\n"
     ]
    }
   ],
   "source": [
    "# параметры лучшей модели\n",
    "print('n_estimators:',\n",
    " boost_tree.best_estimator_.get_params()['n_estimators'],\n",
    " '\\nlearning_rate:',\n",
    " boost_tree.best_estimator_.get_params()['learning_rate'],\n",
    " '\\nmax_depth:',\n",
    " boost_tree.best_estimator_.get_params()['max_depth'])\n"
   ]
  },
  {
   "cell_type": "code",
   "execution_count": 37,
   "id": "d502dc22",
   "metadata": {},
   "outputs": [
    {
     "name": "stdout",
     "output_type": "stream",
     "text": [
      "Acc с перекрёстной проверкой \n",
      "для модели boost_tree_GS : 0.821\n"
     ]
    }
   ],
   "source": [
    "# записываем точность\n",
    "score.append(np.around(boost_tree.best_score_, 3))\n",
    "score_models.append('boost_tree_GS')\n",
    "print('Acc с перекрёстной проверкой',\n",
    " '\\nдля модели', score_models[3], ':', score[3])"
   ]
  },
  {
   "cell_type": "markdown",
   "id": "f2a67509",
   "metadata": {},
   "source": [
    "## Прогноз на отложенные наблюдения по лучшей модели\n",
    "Ещё раз посмотрим на точность построенных моделей."
   ]
  },
  {
   "cell_type": "code",
   "execution_count": 38,
   "id": "9d0576a5",
   "metadata": {},
   "outputs": [
    {
     "data": {
      "text/html": [
       "<div>\n",
       "<style scoped>\n",
       "    .dataframe tbody tr th:only-of-type {\n",
       "        vertical-align: middle;\n",
       "    }\n",
       "\n",
       "    .dataframe tbody tr th {\n",
       "        vertical-align: top;\n",
       "    }\n",
       "\n",
       "    .dataframe thead th {\n",
       "        text-align: right;\n",
       "    }\n",
       "</style>\n",
       "<table border=\"1\" class=\"dataframe\">\n",
       "  <thead>\n",
       "    <tr style=\"text-align: right;\">\n",
       "      <th></th>\n",
       "      <th>Модель</th>\n",
       "      <th>Acc</th>\n",
       "    </tr>\n",
       "  </thead>\n",
       "  <tbody>\n",
       "    <tr>\n",
       "      <th>0</th>\n",
       "      <td>one_tree</td>\n",
       "      <td>0.729</td>\n",
       "    </tr>\n",
       "    <tr>\n",
       "      <th>1</th>\n",
       "      <td>pruned_tree</td>\n",
       "      <td>0.761</td>\n",
       "    </tr>\n",
       "    <tr>\n",
       "      <th>2</th>\n",
       "      <td>boost_tree_GS</td>\n",
       "      <td>0.821</td>\n",
       "    </tr>\n",
       "    <tr>\n",
       "      <th>3</th>\n",
       "      <td>boost_tree_GS</td>\n",
       "      <td>0.821</td>\n",
       "    </tr>\n",
       "  </tbody>\n",
       "</table>\n",
       "</div>"
      ],
      "text/plain": [
       "          Модель    Acc\n",
       "0       one_tree  0.729\n",
       "1    pruned_tree  0.761\n",
       "2  boost_tree_GS  0.821\n",
       "3  boost_tree_GS  0.821"
      ]
     },
     "execution_count": 38,
     "metadata": {},
     "output_type": "execute_result"
    }
   ],
   "source": [
    "# сводка по точности моделей\n",
    "pd.DataFrame({'Модель' : score_models, 'Acc' : score})"
   ]
  },
  {
   "cell_type": "markdown",
   "id": "6f42992d",
   "metadata": {},
   "source": [
    "Все модели показывают среднюю точность по показателю , при этом самой точной\n",
    "оказывается модель случайного леса. Сделаем прогноз на отложенные наблюдения."
   ]
  },
  {
   "cell_type": "code",
   "execution_count": 41,
   "id": "c5d54ef8",
   "metadata": {},
   "outputs": [
    {
     "ename": "NameError",
     "evalue": "name 'random_forest' is not defined",
     "output_type": "error",
     "traceback": [
      "\u001b[1;31m---------------------------------------------------------------------------\u001b[0m",
      "\u001b[1;31mNameError\u001b[0m                                 Traceback (most recent call last)",
      "\u001b[1;32m~\\AppData\\Local\\Temp\\ipykernel_10408\\3735581341.py\u001b[0m in \u001b[0;36m<module>\u001b[1;34m\u001b[0m\n\u001b[0;32m      2\u001b[0m \u001b[0mX_pred\u001b[0m \u001b[1;33m=\u001b[0m \u001b[0mDF_predict\u001b[0m\u001b[1;33m.\u001b[0m\u001b[0mdrop\u001b[0m\u001b[1;33m(\u001b[0m\u001b[1;33m[\u001b[0m\u001b[1;34m'Y'\u001b[0m\u001b[1;33m]\u001b[0m\u001b[1;33m,\u001b[0m \u001b[0maxis\u001b[0m\u001b[1;33m=\u001b[0m\u001b[1;36m1\u001b[0m\u001b[1;33m)\u001b[0m\u001b[1;33m\u001b[0m\u001b[1;33m\u001b[0m\u001b[0m\n\u001b[0;32m      3\u001b[0m \u001b[1;31m# строим прогноз\u001b[0m\u001b[1;33m\u001b[0m\u001b[1;33m\u001b[0m\u001b[1;33m\u001b[0m\u001b[0m\n\u001b[1;32m----> 4\u001b[1;33m \u001b[0my_hat\u001b[0m \u001b[1;33m=\u001b[0m \u001b[0mrandom_forest\u001b[0m\u001b[1;33m.\u001b[0m\u001b[0mbest_estimator_\u001b[0m\u001b[1;33m.\u001b[0m\u001b[0mpredict\u001b[0m\u001b[1;33m(\u001b[0m\u001b[0mX_pred\u001b[0m\u001b[1;33m)\u001b[0m\u001b[1;33m\u001b[0m\u001b[1;33m\u001b[0m\u001b[0m\n\u001b[0m\u001b[0;32m      5\u001b[0m \u001b[1;31m# характеристики точности\u001b[0m\u001b[1;33m\u001b[0m\u001b[1;33m\u001b[0m\u001b[1;33m\u001b[0m\u001b[0m\n\u001b[0;32m      6\u001b[0m \u001b[0mprint\u001b[0m\u001b[1;33m(\u001b[0m\u001b[0mclassification_report\u001b[0m\u001b[1;33m(\u001b[0m\u001b[0mDF_predict_num\u001b[0m\u001b[1;33m[\u001b[0m\u001b[1;34m'Y'\u001b[0m\u001b[1;33m]\u001b[0m\u001b[1;33m,\u001b[0m \u001b[0my_hat\u001b[0m\u001b[1;33m)\u001b[0m\u001b[1;33m)\u001b[0m\u001b[1;33m\u001b[0m\u001b[1;33m\u001b[0m\u001b[0m\n",
      "\u001b[1;31mNameError\u001b[0m: name 'random_forest' is not defined"
     ]
    }
   ],
   "source": [
    "# данные для прогноза\n",
    "X_pred = DF_predict.drop(['Y'], axis=1)\n",
    "# строим прогноз\n",
    "y_hat = random_forest.best_estimator_.predict(X_pred)\n",
    "# характеристики точности\n",
    "print(classification_report(DF_predict_num['Y'], y_hat))"
   ]
  }
 ],
 "metadata": {
  "kernelspec": {
   "display_name": "Python 3",
   "language": "python",
   "name": "python3"
  },
  "language_info": {
   "codemirror_mode": {
    "name": "ipython",
    "version": 3
   },
   "file_extension": ".py",
   "mimetype": "text/x-python",
   "name": "python",
   "nbconvert_exporter": "python",
   "pygments_lexer": "ipython3",
   "version": "3.7.16"
  }
 },
 "nbformat": 4,
 "nbformat_minor": 5
}
